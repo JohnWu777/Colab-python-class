{
  "nbformat": 4,
  "nbformat_minor": 0,
  "metadata": {
    "colab": {
      "provenance": [],
      "authorship_tag": "ABX9TyMTtO+3r3S5gTC5C26TJL9R",
      "include_colab_link": true
    },
    "kernelspec": {
      "name": "python3",
      "display_name": "Python 3"
    },
    "language_info": {
      "name": "python"
    }
  },
  "cells": [
    {
      "cell_type": "markdown",
      "metadata": {
        "id": "view-in-github",
        "colab_type": "text"
      },
      "source": [
        "<a href=\"https://colab.research.google.com/github/JohnWu777/Colab-python-class/blob/main/MA_HW3.ipynb\" target=\"_parent\"><img src=\"https://colab.research.google.com/assets/colab-badge.svg\" alt=\"Open In Colab\"/></a>"
      ]
    },
    {
      "cell_type": "code",
      "execution_count": null,
      "metadata": {
        "colab": {
          "base_uri": "https://localhost:8080/"
        },
        "id": "TnrgCirYNKL7",
        "outputId": "13b6e08f-4cae-4fc8-a737-eb892c2d8d52"
      },
      "outputs": [
        {
          "output_type": "stream",
          "name": "stdout",
          "text": [
            "   Unnamed: 0          id       班次日期 license_plate  employee_id event_id  \\\n",
            "0         1.0  42448201.0 2022-04-24        551-U9   10906005.0  SDW_0.4   \n",
            "1         2.0  42449133.0 2022-04-24        551-U9   10906005.0  SDW_0.4   \n",
            "2         3.0  42449182.0 2022-04-24        551-U9   10906005.0  SDW_0.4   \n",
            "3         4.0  42449600.0 2022-04-24        551-U9   10906005.0  SDW_0.4   \n",
            "4         5.0  42449692.0 2022-04-24        551-U9   10906005.0  SDW_0.4   \n",
            "\n",
            "             start_time              end_time    剪輯起始時間    剪輯結束時間  ...  拿東西  \\\n",
            "0  2022-04-24T10:47:36Z  2022-04-24T10:47:37Z  10:47:06  10:47:47  ...  1.0   \n",
            "1  2022-04-24T11:54:34Z  2022-04-24T11:54:34Z  11:54:04  11:54:44  ...  0.0   \n",
            "2  2022-04-24T11:59:16Z  2022-04-24T11:59:16Z  11:58:46  11:59:26  ...  0.0   \n",
            "3  2022-04-24T12:26:24Z  2022-04-24T12:26:24Z  12:25:54  12:26:34  ...  0.0   \n",
            "4  2022-04-24T12:33:22Z  2022-04-24T12:33:23Z  12:32:52  12:33:33  ...  0.0   \n",
            "\n",
            "  用手機(手持) 手靠近嘴巴( 飲食or抽菸 or...)  speed  GPSspeed  night  rain  Age  Syear  \\\n",
            "0     0.0                  0.0   88.0      90.0    0.0   0.0  NaN    3.0   \n",
            "1     0.0                  0.0   92.0      94.0    0.0   0.0  NaN    3.0   \n",
            "2     0.0                  0.0   96.0      97.0    0.0   0.0  NaN    3.0   \n",
            "3     0.0                  0.0   93.0      93.0    0.0   0.0  NaN    3.0   \n",
            "4     0.0                  0.0  102.0     102.0    0.0   0.0  NaN    3.0   \n",
            "\n",
            "   Lyear  \n",
            "0    NaN  \n",
            "1    NaN  \n",
            "2    NaN  \n",
            "3    NaN  \n",
            "4    NaN  \n",
            "\n",
            "[5 rows x 30 columns]\n"
          ]
        }
      ],
      "source": [
        "import pandas as pd\n",
        "\n",
        "# Import the XLSX file\n",
        "DDA_raw = pd.read_excel('HW3.xlsx')\n",
        "\n",
        "# Display the first few rows of the data\n",
        "print(DDA_raw.head())"
      ]
    },
    {
      "cell_type": "code",
      "source": [
        "# 檢查類別分佈\n",
        "import numpy as np\n",
        "unique, counts = np.unique(y, return_counts=True)\n",
        "print(\"類別分佈：\", dict(zip(unique, counts)))"
      ],
      "metadata": {
        "colab": {
          "base_uri": "https://localhost:8080/"
        },
        "id": "mVLv4ymYcTOl",
        "outputId": "5c5b283f-3cf5-4021-8380-a66e90d3f977"
      },
      "execution_count": null,
      "outputs": [
        {
          "output_type": "stream",
          "name": "stdout",
          "text": [
            "類別分佈： {'SDW_0.4': 116, 'SDW_1.2': 116}\n"
          ]
        }
      ]
    },
    {
      "cell_type": "markdown",
      "source": [
        "資料集1(全因素輸入)"
      ],
      "metadata": {
        "id": "A2nIuRlY6hF1"
      }
    },
    {
      "cell_type": "code",
      "source": [
        "# Choose variables(columns) and save as DDA\n",
        "columns_to_select1=[5 ,23 ,27, 28 ,29]\n",
        "DDA1 = DDA_raw.iloc[:, columns_to_select1]\n",
        "\n",
        "#Display the first few rows of DDA to confirm\n",
        "print(DDA1.head())"
      ],
      "metadata": {
        "colab": {
          "base_uri": "https://localhost:8080/"
        },
        "id": "pHu491L3jrRR",
        "outputId": "3f6e9da1-92be-4900-804b-d78e8383c9a0"
      },
      "execution_count": null,
      "outputs": [
        {
          "output_type": "stream",
          "name": "stdout",
          "text": [
            "  event_id  speed  Age  Syear  Lyear\n",
            "0  SDW_0.4   88.0  NaN    3.0    NaN\n",
            "1  SDW_0.4   92.0  NaN    3.0    NaN\n",
            "2  SDW_0.4   96.0  NaN    3.0    NaN\n",
            "3  SDW_0.4   93.0  NaN    3.0    NaN\n",
            "4  SDW_0.4  102.0  NaN    3.0    NaN\n"
          ]
        }
      ]
    },
    {
      "cell_type": "markdown",
      "source": [
        "清洗資料1(含speed,Age,Syear,Lyear)"
      ],
      "metadata": {
        "id": "0edJBI0_6pmh"
      }
    },
    {
      "cell_type": "code",
      "source": [
        "DDAc1 = DDA1.dropna(axis=0, how='any')\n",
        "\n",
        "print(DDAc1)"
      ],
      "metadata": {
        "colab": {
          "base_uri": "https://localhost:8080/"
        },
        "id": "SbblX6h92uUm",
        "outputId": "df9765bb-eb1a-41c1-95dd-b37c92a0f14e"
      },
      "execution_count": null,
      "outputs": [
        {
          "output_type": "stream",
          "name": "stdout",
          "text": [
            "     event_id  speed   Age  Syear  Lyear\n",
            "26    SDW_0.4   78.0  50.0   12.0   19.0\n",
            "27    SDW_0.4   77.0  50.0   12.0   19.0\n",
            "28    SDW_0.4   89.0  50.0   12.0   19.0\n",
            "29    SDW_0.4  104.0  50.0   12.0   19.0\n",
            "30    SDW_0.4   92.0  50.0   12.0   19.0\n",
            "...       ...    ...   ...    ...    ...\n",
            "1263  SDW_1.2   97.0  51.0    9.0   10.0\n",
            "1264  SDW_1.2  104.0  51.0    9.0   10.0\n",
            "1282  SDW_1.2   91.0  39.0    9.0    9.0\n",
            "1283  SDW_1.2   84.0  39.0    9.0    9.0\n",
            "1284  SDW_1.2  105.0  39.0    9.0    9.0\n",
            "\n",
            "[624 rows x 5 columns]\n"
          ]
        }
      ]
    },
    {
      "cell_type": "code",
      "source": [
        "import seaborn as sns\n",
        "COR = DDAc1.loc[:,['speed','Age','Syear','Lyear']]\n",
        "cormat = COR.corr()\n",
        "sns.heatmap(cormat)"
      ],
      "metadata": {
        "colab": {
          "base_uri": "https://localhost:8080/",
          "height": 453
        },
        "id": "TqHbQQI23UK7",
        "outputId": "c7e75107-bcfa-456e-8e54-869b68645789"
      },
      "execution_count": null,
      "outputs": [
        {
          "output_type": "execute_result",
          "data": {
            "text/plain": [
              "<Axes: >"
            ]
          },
          "metadata": {},
          "execution_count": 170
        },
        {
          "output_type": "display_data",
          "data": {
            "text/plain": [
              "<Figure size 640x480 with 2 Axes>"
            ],
            "image/png": "[encoded data removed]"
          },
          "metadata": {}
        }
      ]
    },
    {
      "cell_type": "markdown",
      "source": [
        "資料集2(部分資料輸入)"
      ],
      "metadata": {
        "id": "PoojF4VM7CR2"
      }
    },
    {
      "cell_type": "code",
      "source": [
        "# Choose variables(columns) and save as DDA\n",
        "columns_to_select2=[5 ,23 ,27, 28]\n",
        "DDA2 = DDA_raw.iloc[:, columns_to_select2]\n",
        "\n",
        "#Display the first few rows of DDA to confirm\n",
        "print(DDA2.head())"
      ],
      "metadata": {
        "colab": {
          "base_uri": "https://localhost:8080/"
        },
        "id": "pYtG38lw5U4r",
        "outputId": "797124ba-ba19-4001-cc7e-cc36ea10f582"
      },
      "execution_count": null,
      "outputs": [
        {
          "output_type": "stream",
          "name": "stdout",
          "text": [
            "  event_id  speed  Age  Syear\n",
            "0  SDW_0.4   88.0  NaN    3.0\n",
            "1  SDW_0.4   92.0  NaN    3.0\n",
            "2  SDW_0.4   96.0  NaN    3.0\n",
            "3  SDW_0.4   93.0  NaN    3.0\n",
            "4  SDW_0.4  102.0  NaN    3.0\n"
          ]
        }
      ]
    },
    {
      "cell_type": "markdown",
      "source": [
        "清洗資料2(含speed,Age)"
      ],
      "metadata": {
        "id": "ZfYT7jOC7G0H"
      }
    },
    {
      "cell_type": "code",
      "source": [
        "DDAc2 = DDA2.dropna(axis=0, how='any')\n",
        "\n",
        "print(DDAc2)"
      ],
      "metadata": {
        "colab": {
          "base_uri": "https://localhost:8080/"
        },
        "id": "gOwX3q3-5t86",
        "outputId": "1ea5c541-738a-4d17-fd30-80197b58c6ca"
      },
      "execution_count": null,
      "outputs": [
        {
          "output_type": "stream",
          "name": "stdout",
          "text": [
            "     event_id  speed   Age  Syear\n",
            "26    SDW_0.4   78.0  50.0   12.0\n",
            "27    SDW_0.4   77.0  50.0   12.0\n",
            "28    SDW_0.4   89.0  50.0   12.0\n",
            "29    SDW_0.4  104.0  50.0   12.0\n",
            "30    SDW_0.4   92.0  50.0   12.0\n",
            "...       ...    ...   ...    ...\n",
            "1263  SDW_1.2   97.0  51.0    9.0\n",
            "1264  SDW_1.2  104.0  51.0    9.0\n",
            "1282  SDW_1.2   91.0  39.0    9.0\n",
            "1283  SDW_1.2   84.0  39.0    9.0\n",
            "1284  SDW_1.2  105.0  39.0    9.0\n",
            "\n",
            "[624 rows x 4 columns]\n"
          ]
        }
      ]
    },
    {
      "cell_type": "code",
      "source": [
        "import seaborn as sns\n",
        "COR = DDAc2.loc[:,['speed','Age','Syear']]\n",
        "cormat = COR.corr()\n",
        "sns.heatmap(cormat)"
      ],
      "metadata": {
        "colab": {
          "base_uri": "https://localhost:8080/",
          "height": 453
        },
        "id": "yvbLuJRM6CrI",
        "outputId": "c515d7b8-5a77-41a1-c957-f43540615bae"
      },
      "execution_count": null,
      "outputs": [
        {
          "output_type": "execute_result",
          "data": {
            "text/plain": [
              "<Axes: >"
            ]
          },
          "metadata": {},
          "execution_count": 173
        },
        {
          "output_type": "display_data",
          "data": {
            "text/plain": [
              "<Figure size 640x480 with 2 Axes>"
            ],
            "image/png": "[encoded data removed]"
          },
          "metadata": {}
        }
      ]
    },
    {
      "cell_type": "markdown",
      "source": [
        "從相關矩陣熱力圖得知，資料集2較無共線性問題"
      ],
      "metadata": {
        "id": "4u6wgvK17MJB"
      }
    },
    {
      "cell_type": "markdown",
      "source": [
        "了解不同資料集缺失值情況(情況相同:age,Lyear)"
      ],
      "metadata": {
        "id": "dkRJXTZ98J76"
      }
    },
    {
      "cell_type": "code",
      "source": [
        "# 計算第 5 列的類別變數數量\n",
        "DDAc1_y_counts = DDAc1.iloc[:, 0].value_counts()\n",
        "DDAc2_y_counts = DDAc2.iloc[:, 0].value_counts()\n",
        "DDAc3_y_counts = DDAc3.iloc[:, 0].value_counts()\n",
        "# 顯示結果\n",
        "print(DDAc1_y_counts)\n",
        "print(\"\\n\")\n",
        "print(DDAc2_y_counts)\n",
        "print(\"\\n\")\n",
        "print(DDAc3_y_counts)"
      ],
      "metadata": {
        "colab": {
          "base_uri": "https://localhost:8080/"
        },
        "id": "IPMr00L4RXD1",
        "outputId": "644f808b-ab44-45b0-dde6-4bc710e41dd4"
      },
      "execution_count": null,
      "outputs": [
        {
          "output_type": "stream",
          "name": "stdout",
          "text": [
            "event_id\n",
            "SDW_0.4    508\n",
            "SDW_1.2    116\n",
            "Name: count, dtype: int64\n",
            "\n",
            "\n",
            "event_id\n",
            "SDW_0.4    508\n",
            "SDW_1.2    116\n",
            "Name: count, dtype: int64\n",
            "\n",
            "\n",
            "event_id\n",
            "SDW_0.4    508\n",
            "SDW_1.2    116\n",
            "Name: count, dtype: int64\n"
          ]
        }
      ]
    },
    {
      "cell_type": "code",
      "source": [
        "# 檢查類別分佈\n",
        "import numpy as np\n",
        "unique, counts = np.unique(y, return_counts=True)\n",
        "print(\"類別分佈：\", dict(zip(unique, counts)))"
      ],
      "metadata": {
        "colab": {
          "base_uri": "https://localhost:8080/"
        },
        "id": "1UIuKyn5coK2",
        "outputId": "f09a5838-4b00-4ae1-adac-50de9ccce22d"
      },
      "execution_count": null,
      "outputs": [
        {
          "output_type": "stream",
          "name": "stdout",
          "text": [
            "類別分佈： {'SDW_0.4': 116, 'SDW_1.2': 116}\n"
          ]
        }
      ]
    },
    {
      "cell_type": "markdown",
      "source": [
        "以資料集1為例做抽樣"
      ],
      "metadata": {
        "id": "wI8U-8WT9lVz"
      }
    },
    {
      "cell_type": "code",
      "source": [
        "import pandas as pd\n",
        "\n",
        "# 顯示 DDA 的前幾行以確認\n",
        "print(DDAc1.head())\n",
        "\n",
        "# 獲取第五列的名稱，方便引用\n",
        "column_name = DDAc1.columns[0]\n",
        "\n",
        "# 將數據按類別分組\n",
        "grouped = DDAc1.groupby(column_name)\n",
        "\n",
        "# 找到量多的類別並抽樣，使其與量少的類別匹配\n",
        "majority_class = grouped.get_group('SDW_0.4')  # 量多的類別\n",
        "minority_class = grouped.get_group('SDW_1.2')  # 量少的類別\n",
        "\n",
        "# 從量多的類別中隨機抽樣，樣本數量與量少的類別相同\n",
        "majority_class_sampled = majority_class.sample(n=len(minority_class), random_state=42)\n",
        "\n",
        "# 合併抽樣后的多數類別和少數類別\n",
        "balanced_DDAc1 = pd.concat([majority_class_sampled, minority_class])\n",
        "\n",
        "# 顯示平衡后的數據集的前幾行\n",
        "print(balanced_DDAc1.head())\n",
        "\n",
        "# 計算第 5 列的類別變數數量\n",
        "DDAc1_y_counts_balance = balanced_DDAc1.iloc[:, 0].value_counts()\n",
        "\n",
        "# 顯示結果\n",
        "print(DDAc1_y_counts_balance)"
      ],
      "metadata": {
        "colab": {
          "base_uri": "https://localhost:8080/"
        },
        "id": "YZMH_0LqSZBT",
        "outputId": "140d09f6-b76e-46cc-9460-4415bfb0e822"
      },
      "execution_count": null,
      "outputs": [
        {
          "output_type": "stream",
          "name": "stdout",
          "text": [
            "   event_id  speed   Age  Syear  Lyear\n",
            "26  SDW_0.4   78.0  50.0   12.0   19.0\n",
            "27  SDW_0.4   77.0  50.0   12.0   19.0\n",
            "28  SDW_0.4   89.0  50.0   12.0   19.0\n",
            "29  SDW_0.4  104.0  50.0   12.0   19.0\n",
            "30  SDW_0.4   92.0  50.0   12.0   19.0\n",
            "    event_id  speed   Age  Syear  Lyear\n",
            "111  SDW_0.4   97.0  35.0    6.0   11.0\n",
            "491  SDW_0.4  101.0  47.0   21.0   23.0\n",
            "882  SDW_0.4   90.0  51.0    9.0   10.0\n",
            "657  SDW_0.4   93.0  51.0    9.0   10.0\n",
            "262  SDW_0.4   92.0  49.0    5.0   10.0\n",
            "event_id\n",
            "SDW_0.4    116\n",
            "SDW_1.2    116\n",
            "Name: count, dtype: int64\n"
          ]
        }
      ]
    },
    {
      "cell_type": "markdown",
      "source": [
        "目前處理到這邊"
      ],
      "metadata": {
        "id": "xMb2t1My-4Wo"
      }
    },
    {
      "cell_type": "code",
      "source": [
        "from sklearn.discriminant_analysis import LinearDiscriminantAnalysis as LDA\n",
        "X = balanced_DDAc1[['speed','Age','Syear','Lyear']]\n",
        "y = balanced_DDAc1.loc[:,\"event_id\"]\n",
        "\n",
        "# Inotoalize and fit the LDA model\n",
        "lda_model = LDA()\n",
        "lda_model.fit(X,y)\n",
        "\n",
        "# Get the canonical variables\n",
        "canonical_vars = lda_model.transform(X)"
      ],
      "metadata": {
        "id": "PAnI8pXQYT0J"
      },
      "execution_count": null,
      "outputs": []
    },
    {
      "cell_type": "code",
      "source": [
        "# Display the canonical variables\n",
        "print(\"Canonical Scores:\")\n",
        "print(canonical_vars[:6],\"...\",\"\\n\")\n",
        "\n",
        "# Inspect the intercept, coefficients and explained variance ratio\n",
        "print(\"Intercept of 3 canonical functions:\")\n",
        "print(lda_model.intercept_,\"\\n\")\n",
        "\n",
        "print(\"Coefficients of 3 canonical functions:\")\n",
        "print(lda_model.coef_,\"\\n\")\n",
        "\n",
        "print(\"Explained Variance Ratio:\")\n",
        "print(lda_model.explained_variance_ratio_,\"\\n\")"
      ],
      "metadata": {
        "colab": {
          "base_uri": "https://localhost:8080/"
        },
        "id": "TOqdjxLbbMM1",
        "outputId": "242eb192-c0ab-4c69-902f-0b14b889a418"
      },
      "execution_count": null,
      "outputs": [
        {
          "output_type": "stream",
          "name": "stdout",
          "text": [
            "Canonical Scores:\n",
            "[[-1.74770816]\n",
            " [ 0.51848121]\n",
            " [-0.08909772]\n",
            " [-0.2119879 ]\n",
            " [-0.69327112]\n",
            " [-0.2119879 ]] ... \n",
            "\n",
            "Intercept of 3 canonical functions:\n",
            "[-0.41549696] \n",
            "\n",
            "Coefficients of 3 canonical functions:\n",
            "[[-0.01890277  0.03162661  0.04443504  0.00627591]] \n",
            "\n",
            "Explained Variance Ratio:\n",
            "[1.] \n",
            "\n"
          ]
        }
      ]
    },
    {
      "cell_type": "code",
      "source": [
        "import pandas as pd\n",
        "import numpy as np\n",
        "from sklearn.ensemble import RandomForestClassifier\n",
        "import matplotlib.pyplot as plt\n",
        "\n",
        "# 假設您已有 X 和 y 數據\n",
        "# X 是包含特徵 LS 和 Age 的數據框，y 是目標變量\n",
        "\n",
        "# 初始化隨機森林模型\n",
        "rf_model = RandomForestClassifier(n_estimators=100, random_state=42)\n",
        "\n",
        "# 訓練模型\n",
        "rf_model.fit(X, y)\n",
        "\n",
        "# 獲取特徵的重要性\n",
        "feature_importances = rf_model.feature_importances_\n",
        "\n",
        "# 查看特徵的重要性\n",
        "feature_names = X.columns\n",
        "importance_dict = dict(zip(feature_names, feature_importances))\n",
        "print(\"特徵的重要性：\", importance_dict)\n",
        "\n",
        "# 可視化特徵重要性\n",
        "plt.figure(figsize=(10, 6))\n",
        "plt.bar(feature_names, feature_importances, color='skyblue')\n",
        "plt.xlabel('Features')\n",
        "plt.ylabel('Importance Score')\n",
        "plt.title('Feature Importance from Random Forest')\n",
        "plt.show()"
      ],
      "metadata": {
        "colab": {
          "base_uri": "https://localhost:8080/",
          "height": 582
        },
        "id": "AL7ylNJ-hXtJ",
        "outputId": "1b365e44-0d65-4765-c868-e4460e4ee69d"
      },
      "execution_count": null,
      "outputs": [
        {
          "output_type": "stream",
          "name": "stdout",
          "text": [
            "特徵的重要性： {'speed': 0.6636469140784305, 'Age': 0.12214229703920057, 'Syear': 0.12486980771104982, 'Lyear': 0.0893409811713191}\n"
          ]
        },
        {
          "output_type": "display_data",
          "data": {
            "text/plain": [
              "<Figure size 1000x600 with 1 Axes>"
            ],
            "image/png": "[encoded data removed]"
          },
          "metadata": {}
        }
      ]
    },
    {
      "cell_type": "code",
      "source": [
        "import matplotlib.pyplot as plt\n",
        "import seaborn as sns\n",
        "\n",
        "# Make predictions\n",
        "lda_values = lda_model.predict(X)\n",
        "lda_proba = lda_model.predict_proba(X)\n",
        "\n",
        "# Create a DataFrame to store the predictions\n",
        "lda_results = pd.DataFrame({\n",
        "    'Predicted_Class': lda_values,\n",
        "    'Predicted_Probability': [prob.round(3) for prob in lda_proba]#Probabilities for each class\n",
        "})\n",
        "\n",
        "# Add the predictions tp original DataFrame\n",
        "DDAc1_with_predictions = balanced_DDAc1.copy()\n",
        "DDAc1_with_predictions = pd.concat([DDAc1_with_predictions, lda_results],axis=1)\n",
        "\n",
        "# Display the first few rows\n",
        "print(\"\\nFirst few rows of predicitons:\")\n",
        "print(DDAc1_with_predictions.head(10))"
      ],
      "metadata": {
        "colab": {
          "base_uri": "https://localhost:8080/"
        },
        "id": "RuYQ10tkfmPH",
        "outputId": "09427392-cf60-416b-8208-0eefd599c277"
      },
      "execution_count": null,
      "outputs": [
        {
          "output_type": "stream",
          "name": "stdout",
          "text": [
            "\n",
            "First few rows of predicitons:\n",
            "    event_id  speed   Age  Syear  Lyear Predicted_Class Predicted_Probability\n",
            "111  SDW_0.4   97.0  35.0    6.0   11.0         SDW_0.4        [0.568, 0.432]\n",
            "491  SDW_0.4  101.0  47.0   21.0   23.0             NaN                   NaN\n",
            "882  SDW_0.4   90.0  51.0    9.0   10.0             NaN                   NaN\n",
            "657  SDW_0.4   93.0  51.0    9.0   10.0             NaN                   NaN\n",
            "262  SDW_0.4   92.0  49.0    5.0   10.0             NaN                   NaN\n",
            "890  SDW_0.4   93.0  51.0    9.0   10.0             NaN                   NaN\n",
            "95   SDW_0.4   97.0  35.0    6.0   11.0         SDW_0.4        [0.555, 0.445]\n",
            "280  SDW_0.4   99.0  49.0    5.0   10.0             NaN                   NaN\n",
            "116  SDW_0.4   89.0  35.0    6.0   11.0         SDW_1.2        [0.357, 0.643]\n",
            "205  SDW_0.4  101.0  57.0   16.0   19.0         SDW_0.4        [0.551, 0.449]\n"
          ]
        }
      ]
    },
    {
      "cell_type": "code",
      "source": [
        "from sklearn.metrics import confusion_matrix, accuracy_score, classification_report\n",
        "\n",
        "# Compute confusion matrix\n",
        "conf_atrix = confusion_matrix(y, lda_values, labels=lda_model.classes_)\n",
        "\n",
        "# Compute accuracy rate\n",
        "accuracy = accuracy_score(y, lda_values)\n",
        "\n",
        "# Plot confusion matrix\n",
        "plt.figure(figsize=(8, 6))\n",
        "sns.heatmap(conf_atrix, annot=True, fmt='d', cmap='Blues', xticklabels=lda_model.classes_, yticklabels=lda_model.classes_)\n",
        "plt.xlabel('Predicted')\n",
        "plt.ylabel('True')\n",
        "plt.title('Confusion Matrix')\n",
        "plt.show()"
      ],
      "metadata": {
        "colab": {
          "base_uri": "https://localhost:8080/",
          "height": 564
        },
        "id": "QBi4hXTBaZkm",
        "outputId": "e2214f15-5b7f-4021-8cb1-ad05280a6edd"
      },
      "execution_count": null,
      "outputs": [
        {
          "output_type": "display_data",
          "data": {
            "text/plain": [
              "<Figure size 800x600 with 2 Axes>"
            ],
            "image/png": "[encoded data removed]"
          },
          "metadata": {}
        }
      ]
    },
    {
      "cell_type": "code",
      "source": [
        "import numpy as np\n",
        "import matplotlib.pyplot as plt\n",
        "import seaborn as sns\n",
        "from sklearn.metrics import confusion_matrix, accuracy_score, classification_report\n",
        "\n",
        "# 計算混淆矩陣\n",
        "conf_atrix = confusion_matrix(y, lda_values, labels=lda_model.classes_)\n",
        "\n",
        "# 計算混淆矩陣每個類別的比例\n",
        "conf_atrix_percentage = conf_atrix.astype('float') / conf_atrix.sum(axis=1)[:, np.newaxis] * 100\n",
        "\n",
        "# 計算準確率\n",
        "accuracy = accuracy_score(y, lda_values)\n",
        "\n",
        "# 繪製混淆矩陣（百分比格式）\n",
        "plt.figure(figsize=(8, 6))\n",
        "sns.heatmap(conf_atrix_percentage, annot=True, fmt='.2f', cmap='Blues', xticklabels=lda_model.classes_, yticklabels=lda_model.classes_)\n",
        "plt.xlabel('Predicted')\n",
        "plt.ylabel('True')\n",
        "plt.title('Confusion Matrix (Percentage)')\n",
        "plt.show()\n"
      ],
      "metadata": {
        "colab": {
          "base_uri": "https://localhost:8080/",
          "height": 564
        },
        "id": "dDODGMnKb_r5",
        "outputId": "f0ada0e9-2379-4325-dfb6-b8e38e0dd13d"
      },
      "execution_count": null,
      "outputs": [
        {
          "output_type": "display_data",
          "data": {
            "text/plain": [
              "<Figure size 800x600 with 2 Axes>"
            ],
            "image/png": "[encoded data removed]"
          },
          "metadata": {}
        }
      ]
    },
    {
      "cell_type": "code",
      "source": [
        "print(\"\\nAccuracy Rate:\")\n",
        "print(accuracy)"
      ],
      "metadata": {
        "colab": {
          "base_uri": "https://localhost:8080/"
        },
        "id": "FXzqg1wkmRkC",
        "outputId": "178dc548-4f84-492c-fbce-81418b9112b4"
      },
      "execution_count": null,
      "outputs": [
        {
          "output_type": "stream",
          "name": "stdout",
          "text": [
            "\n",
            "Accuracy Rate:\n",
            "0.5948275862068966\n"
          ]
        }
      ]
    },
    {
      "cell_type": "code",
      "source": [
        "# Generate classidicaiton report\n",
        "report_ann = classification_report(y, lda_values)\n",
        "print(\"\\nClassification Report:\")\n",
        "print(report_ann)"
      ],
      "metadata": {
        "colab": {
          "base_uri": "https://localhost:8080/"
        },
        "id": "JCeuQLssmOj5",
        "outputId": "047e4ccb-63e6-4d8c-97ea-61eb59305c83"
      },
      "execution_count": null,
      "outputs": [
        {
          "output_type": "stream",
          "name": "stdout",
          "text": [
            "\n",
            "Classification Report:\n",
            "              precision    recall  f1-score   support\n",
            "\n",
            "     SDW_0.4       0.59      0.65      0.61       116\n",
            "     SDW_1.2       0.61      0.54      0.57       116\n",
            "\n",
            "    accuracy                           0.59       232\n",
            "   macro avg       0.60      0.59      0.59       232\n",
            "weighted avg       0.60      0.59      0.59       232\n",
            "\n"
          ]
        }
      ]
    },
    {
      "cell_type": "markdown",
      "source": [
        "處理資料2"
      ],
      "metadata": {
        "id": "TC76FNCgkc6t"
      }
    },
    {
      "cell_type": "code",
      "source": [
        "import pandas as pd\n",
        "\n",
        "# 顯示 DDA 的前幾行以確認\n",
        "print(DDAc2.head())\n",
        "\n",
        "# 獲取第五列的名稱，方便引用\n",
        "column_name = DDAc2.columns[0]\n",
        "\n",
        "# 將數據按類別分組\n",
        "grouped = DDAc2.groupby(column_name)\n",
        "\n",
        "# 找到量多的類別並抽樣，使其與量少的類別匹配\n",
        "majority_class = grouped.get_group('SDW_0.4')  # 量多的類別\n",
        "minority_class = grouped.get_group('SDW_1.2')  # 量少的類別\n",
        "\n",
        "# 從量多的類別中隨機抽樣，樣本數量與量少的類別相同\n",
        "majority_class_sampled = majority_class.sample(n=len(minority_class), random_state=42)\n",
        "\n",
        "# 合併抽樣后的多數類別和少數類別\n",
        "balanced_DDAc2 = pd.concat([majority_class_sampled, minority_class])\n",
        "\n",
        "# 顯示平衡后的數據集的前幾行\n",
        "print(balanced_DDAc2.head())\n",
        "\n",
        "# 計算第 5 列的類別變數數量\n",
        "DDAc2_y_counts_balance = balanced_DDAc2.iloc[:, 0].value_counts()\n",
        "\n",
        "# 顯示結果\n",
        "print(DDAc2_y_counts_balance)"
      ],
      "metadata": {
        "colab": {
          "base_uri": "https://localhost:8080/"
        },
        "id": "I__PVlx4kYl0",
        "outputId": "077a61ec-4937-44fa-afea-5440972eb3a3"
      },
      "execution_count": null,
      "outputs": [
        {
          "output_type": "stream",
          "name": "stdout",
          "text": [
            "   event_id  speed   Age  Syear\n",
            "26  SDW_0.4   78.0  50.0   12.0\n",
            "27  SDW_0.4   77.0  50.0   12.0\n",
            "28  SDW_0.4   89.0  50.0   12.0\n",
            "29  SDW_0.4  104.0  50.0   12.0\n",
            "30  SDW_0.4   92.0  50.0   12.0\n",
            "    event_id  speed   Age  Syear\n",
            "111  SDW_0.4   97.0  35.0    6.0\n",
            "491  SDW_0.4  101.0  47.0   21.0\n",
            "882  SDW_0.4   90.0  51.0    9.0\n",
            "657  SDW_0.4   93.0  51.0    9.0\n",
            "262  SDW_0.4   92.0  49.0    5.0\n",
            "event_id\n",
            "SDW_0.4    116\n",
            "SDW_1.2    116\n",
            "Name: count, dtype: int64\n"
          ]
        }
      ]
    },
    {
      "cell_type": "code",
      "source": [
        "from sklearn.discriminant_analysis import LinearDiscriminantAnalysis as LDA\n",
        "X = balanced_DDAc2[['speed','Age','Syear']]\n",
        "y = balanced_DDAc2.loc[:,\"event_id\"]\n",
        "\n",
        "# Inotoalize and fit the LDA model\n",
        "lda_model = LDA()\n",
        "lda_model.fit(X,y)\n",
        "\n",
        "# Get the canonical variables\n",
        "canonical_vars = lda_model.transform(X)"
      ],
      "metadata": {
        "id": "syRZTe-blRRA"
      },
      "execution_count": null,
      "outputs": []
    },
    {
      "cell_type": "code",
      "source": [
        "# Display the canonical variables\n",
        "print(\"Canonical Scores:\")\n",
        "print(canonical_vars[:6],\"...\",\"\\n\")\n",
        "\n",
        "# Inspect the intercept, coefficients and explained variance ratio\n",
        "print(\"Intercept of 3 canonical functions:\")\n",
        "print(lda_model.intercept_,\"\\n\")\n",
        "\n",
        "print(\"Coefficients of 3 canonical functions:\")\n",
        "print(lda_model.coef_,\"\\n\")\n",
        "\n",
        "print(\"Explained Variance Ratio:\")\n",
        "print(lda_model.explained_variance_ratio_,\"\\n\")"
      ],
      "metadata": {
        "colab": {
          "base_uri": "https://localhost:8080/"
        },
        "id": "DEIrCEJOllDm",
        "outputId": "69c95ca6-3665-4fb3-f514-127a8f03d539"
      },
      "execution_count": null,
      "outputs": [
        {
          "output_type": "stream",
          "name": "stdout",
          "text": [
            "Canonical Scores:\n",
            "[[-1.76837682]\n",
            " [ 0.49324489]\n",
            " [-0.00557484]\n",
            " [-0.12704458]\n",
            " [-0.64507924]\n",
            " [-0.12704458]] ... \n",
            "\n",
            "Intercept of 3 canonical functions:\n",
            "[-0.46926721] \n",
            "\n",
            "Coefficients of 3 canonical functions:\n",
            "[[-0.01864613  0.03368031  0.0474618 ]] \n",
            "\n",
            "Explained Variance Ratio:\n",
            "[1.] \n",
            "\n"
          ]
        }
      ]
    },
    {
      "cell_type": "code",
      "source": [
        "import pandas as pd\n",
        "import numpy as np\n",
        "from sklearn.ensemble import RandomForestClassifier\n",
        "import matplotlib.pyplot as plt\n",
        "\n",
        "# 假設您已有 X 和 y 數據\n",
        "# X 是包含特徵 LS 和 Age 的數據框，y 是目標變量\n",
        "\n",
        "# 初始化隨機森林模型\n",
        "rf_model = RandomForestClassifier(n_estimators=100, random_state=42)\n",
        "\n",
        "# 訓練模型\n",
        "rf_model.fit(X, y)\n",
        "\n",
        "# 獲取特徵的重要性\n",
        "feature_importances = rf_model.feature_importances_\n",
        "\n",
        "# 查看特徵的重要性\n",
        "feature_names = X.columns\n",
        "importance_dict = dict(zip(feature_names, feature_importances))\n",
        "print(\"特徵的重要性：\", importance_dict)\n",
        "\n",
        "# 可視化特徵重要性\n",
        "plt.figure(figsize=(10, 6))\n",
        "plt.bar(feature_names, feature_importances, color='skyblue')\n",
        "plt.xlabel('Features')\n",
        "plt.ylabel('Importance Score')\n",
        "plt.title('Feature Importance from Random Forest')\n",
        "plt.show()"
      ],
      "metadata": {
        "colab": {
          "base_uri": "https://localhost:8080/",
          "height": 582
        },
        "id": "JpOfXA59ltdL",
        "outputId": "e0185acc-aff5-4cb4-8463-0f84b60322f9"
      },
      "execution_count": null,
      "outputs": [
        {
          "output_type": "stream",
          "name": "stdout",
          "text": [
            "特徵的重要性： {'speed': 0.6911013081950441, 'Age': 0.16150474203419637, 'Syear': 0.1473939497707596}\n"
          ]
        },
        {
          "output_type": "display_data",
          "data": {
            "text/plain": [
              "<Figure size 1000x600 with 1 Axes>"
            ],
            "image/png": "[encoded data removed]"
          },
          "metadata": {}
        }
      ]
    },
    {
      "cell_type": "code",
      "source": [
        "import matplotlib.pyplot as plt\n",
        "import seaborn as sns\n",
        "\n",
        "# Make predictions\n",
        "lda_values = lda_model.predict(X)\n",
        "lda_proba = lda_model.predict_proba(X)\n",
        "\n",
        "# Create a DataFrame to store the predictions\n",
        "lda_results = pd.DataFrame({\n",
        "    'Predicted_Class': lda_values,\n",
        "    'Predicted_Probability': [prob.round(3) for prob in lda_proba]#Probabilities for each class\n",
        "})\n",
        "\n",
        "# Add the predictions tp original DataFrame\n",
        "DDAc2_with_predictions = balanced_DDAc2.copy()\n",
        "DDAc2_with_predictions = pd.concat([DDAc2_with_predictions, lda_results],axis=1)\n",
        "\n",
        "# Display the first few rows\n",
        "print(\"\\nFirst few rows of predicitons:\")\n",
        "print(DDAc1_with_predictions.head(10))"
      ],
      "metadata": {
        "colab": {
          "base_uri": "https://localhost:8080/"
        },
        "id": "zaTRy32El1oY",
        "outputId": "831a7523-0dc3-47db-d5cf-006e7866b81b"
      },
      "execution_count": null,
      "outputs": [
        {
          "output_type": "stream",
          "name": "stdout",
          "text": [
            "\n",
            "First few rows of predicitons:\n",
            "    event_id  speed   Age  Syear  Lyear Predicted_Class Predicted_Probability\n",
            "111  SDW_0.4   97.0  35.0    6.0   11.0         SDW_0.4        [0.568, 0.432]\n",
            "491  SDW_0.4  101.0  47.0   21.0   23.0             NaN                   NaN\n",
            "882  SDW_0.4   90.0  51.0    9.0   10.0             NaN                   NaN\n",
            "657  SDW_0.4   93.0  51.0    9.0   10.0             NaN                   NaN\n",
            "262  SDW_0.4   92.0  49.0    5.0   10.0             NaN                   NaN\n",
            "890  SDW_0.4   93.0  51.0    9.0   10.0             NaN                   NaN\n",
            "95   SDW_0.4   97.0  35.0    6.0   11.0         SDW_0.4        [0.555, 0.445]\n",
            "280  SDW_0.4   99.0  49.0    5.0   10.0             NaN                   NaN\n",
            "116  SDW_0.4   89.0  35.0    6.0   11.0         SDW_1.2        [0.357, 0.643]\n",
            "205  SDW_0.4  101.0  57.0   16.0   19.0         SDW_0.4        [0.551, 0.449]\n"
          ]
        }
      ]
    },
    {
      "cell_type": "code",
      "source": [
        "from sklearn.metrics import confusion_matrix, accuracy_score, classification_report\n",
        "\n",
        "# Compute confusion matrix\n",
        "conf_atrix = confusion_matrix(y, lda_values, labels=lda_model.classes_)\n",
        "\n",
        "# Compute accuracy rate\n",
        "accuracy = accuracy_score(y, lda_values)\n",
        "\n",
        "# Plot confusion matrix\n",
        "plt.figure(figsize=(8, 6))\n",
        "sns.heatmap(conf_atrix, annot=True, fmt='d', cmap='Blues', xticklabels=lda_model.classes_, yticklabels=lda_model.classes_)\n",
        "plt.xlabel('Predicted')\n",
        "plt.ylabel('True')\n",
        "plt.title('Confusion Matrix')\n",
        "plt.show()"
      ],
      "metadata": {
        "colab": {
          "base_uri": "https://localhost:8080/",
          "height": 564
        },
        "id": "EzvF8-krmHIo",
        "outputId": "4e537c8c-b66f-4151-f871-eaddcd02362b"
      },
      "execution_count": null,
      "outputs": [
        {
          "output_type": "display_data",
          "data": {
            "text/plain": [
              "<Figure size 800x600 with 2 Axes>"
            ],
            "image/png": "[encoded data removed]"
          },
          "metadata": {}
        }
      ]
    },
    {
      "cell_type": "code",
      "source": [
        "import numpy as np\n",
        "import matplotlib.pyplot as plt\n",
        "import seaborn as sns\n",
        "from sklearn.metrics import confusion_matrix, accuracy_score, classification_report\n",
        "\n",
        "# 計算混淆矩陣\n",
        "conf_atrix = confusion_matrix(y, lda_values, labels=lda_model.classes_)\n",
        "\n",
        "# 計算混淆矩陣每個類別的比例\n",
        "conf_atrix_percentage = conf_atrix.astype('float') / conf_atrix.sum(axis=1)[:, np.newaxis] * 100\n",
        "\n",
        "# 計算準確率\n",
        "accuracy = accuracy_score(y, lda_values)\n",
        "\n",
        "# 繪製混淆矩陣（百分比格式）\n",
        "plt.figure(figsize=(8, 6))\n",
        "sns.heatmap(conf_atrix_percentage, annot=True, fmt='.2f', cmap='Blues', xticklabels=lda_model.classes_, yticklabels=lda_model.classes_)\n",
        "plt.xlabel('Predicted')\n",
        "plt.ylabel('True')\n",
        "plt.title('Confusion Matrix (Percentage)')\n",
        "plt.show()"
      ],
      "metadata": {
        "colab": {
          "base_uri": "https://localhost:8080/",
          "height": 564
        },
        "id": "3dgP6nJYmSFt",
        "outputId": "a60a0db8-6dc3-434a-d56f-687ee1fd8432"
      },
      "execution_count": null,
      "outputs": [
        {
          "output_type": "display_data",
          "data": {
            "text/plain": [
              "<Figure size 800x600 with 2 Axes>"
            ],
            "image/png": "[encoded data removed]"
          },
          "metadata": {}
        }
      ]
    },
    {
      "cell_type": "code",
      "source": [
        "print(\"\\nAccuracy Rate:\")\n",
        "print(accuracy)"
      ],
      "metadata": {
        "colab": {
          "base_uri": "https://localhost:8080/"
        },
        "id": "75NP-h0GmpVL",
        "outputId": "0f14df50-1f25-46fa-87c0-d3f90dd03fbc"
      },
      "execution_count": null,
      "outputs": [
        {
          "output_type": "stream",
          "name": "stdout",
          "text": [
            "\n",
            "Accuracy Rate:\n",
            "0.5775862068965517\n"
          ]
        }
      ]
    },
    {
      "cell_type": "code",
      "source": [
        "\n",
        "# Generate classidicaiton report\n",
        "report_ann = classification_report(y, lda_values)\n",
        "print(\"\\nClassification Report:\")\n",
        "print(report_ann)"
      ],
      "metadata": {
        "colab": {
          "base_uri": "https://localhost:8080/"
        },
        "id": "DRV4c4AEm0Gu",
        "outputId": "19f3943c-d8ee-47bb-f78d-29e0c7873376"
      },
      "execution_count": null,
      "outputs": [
        {
          "output_type": "stream",
          "name": "stdout",
          "text": [
            "\n",
            "Classification Report:\n",
            "              precision    recall  f1-score   support\n",
            "\n",
            "     SDW_0.4       0.57      0.64      0.60       116\n",
            "     SDW_1.2       0.59      0.52      0.55       116\n",
            "\n",
            "    accuracy                           0.58       232\n",
            "   macro avg       0.58      0.58      0.58       232\n",
            "weighted avg       0.58      0.58      0.58       232\n",
            "\n"
          ]
        }
      ]
    },
    {
      "cell_type": "markdown",
      "source": [
        "資料集3"
      ],
      "metadata": {
        "id": "eW5S18p7rcym"
      }
    },
    {
      "cell_type": "code",
      "source": [
        "# Choose variables(columns) and save as DDA\n",
        "columns_to_select3=[5 ,23 ,27]\n",
        "DDA3 = DDA_raw.iloc[:, columns_to_select3]\n",
        "\n",
        "#Display the first few rows of DDA to confirm\n",
        "print(DDA3.head())"
      ],
      "metadata": {
        "colab": {
          "base_uri": "https://localhost:8080/"
        },
        "id": "QmVYhDR5rbfI",
        "outputId": "38e9926d-c3d9-4064-b8be-3dad7609cbf6"
      },
      "execution_count": null,
      "outputs": [
        {
          "output_type": "stream",
          "name": "stdout",
          "text": [
            "  event_id  speed  Age\n",
            "0  SDW_0.4   88.0  NaN\n",
            "1  SDW_0.4   92.0  NaN\n",
            "2  SDW_0.4   96.0  NaN\n",
            "3  SDW_0.4   93.0  NaN\n",
            "4  SDW_0.4  102.0  NaN\n"
          ]
        }
      ]
    },
    {
      "cell_type": "markdown",
      "source": [
        "資料3清洗"
      ],
      "metadata": {
        "id": "at4XoHpLryEm"
      }
    },
    {
      "cell_type": "code",
      "source": [
        "DDAc3 = DDA3.dropna(axis=0, how='any')\n",
        "\n",
        "print(DDAc3)"
      ],
      "metadata": {
        "colab": {
          "base_uri": "https://localhost:8080/"
        },
        "id": "7CD8OTPervzY",
        "outputId": "06338106-ff93-41dd-9673-c3416fb2cb1b"
      },
      "execution_count": null,
      "outputs": [
        {
          "output_type": "stream",
          "name": "stdout",
          "text": [
            "     event_id  speed   Age\n",
            "26    SDW_0.4   78.0  50.0\n",
            "27    SDW_0.4   77.0  50.0\n",
            "28    SDW_0.4   89.0  50.0\n",
            "29    SDW_0.4  104.0  50.0\n",
            "30    SDW_0.4   92.0  50.0\n",
            "...       ...    ...   ...\n",
            "1263  SDW_1.2   97.0  51.0\n",
            "1264  SDW_1.2  104.0  51.0\n",
            "1282  SDW_1.2   91.0  39.0\n",
            "1283  SDW_1.2   84.0  39.0\n",
            "1284  SDW_1.2  105.0  39.0\n",
            "\n",
            "[624 rows x 3 columns]\n"
          ]
        }
      ]
    },
    {
      "cell_type": "code",
      "source": [
        "import seaborn as sns\n",
        "COR = DDAc3.loc[:,['speed','Age']]\n",
        "cormat = COR.corr()\n",
        "sns.heatmap(cormat)"
      ],
      "metadata": {
        "colab": {
          "base_uri": "https://localhost:8080/",
          "height": 453
        },
        "id": "jQn7oA8isCxj",
        "outputId": "9e3ca930-9797-4981-f433-435445e7108c"
      },
      "execution_count": null,
      "outputs": [
        {
          "output_type": "execute_result",
          "data": {
            "text/plain": [
              "<Axes: >"
            ]
          },
          "metadata": {},
          "execution_count": 196
        },
        {
          "output_type": "display_data",
          "data": {
            "text/plain": [
              "<Figure size 640x480 with 2 Axes>"
            ],
            "image/png": "[encoded data removed]"
          },
          "metadata": {}
        }
      ]
    },
    {
      "cell_type": "markdown",
      "source": [
        "資料3抽樣"
      ],
      "metadata": {
        "id": "M6mDMV5mszUU"
      }
    },
    {
      "cell_type": "code",
      "source": [
        "import pandas as pd\n",
        "\n",
        "# 顯示 DDA 的前幾行以確認\n",
        "print(DDAc3.head())\n",
        "\n",
        "# 獲取第五列的名稱，方便引用\n",
        "column_name = DDAc3.columns[0]\n",
        "\n",
        "# 將數據按類別分組\n",
        "grouped = DDAc3.groupby(column_name)\n",
        "\n",
        "# 找到量多的類別並抽樣，使其與量少的類別匹配\n",
        "majority_class = grouped.get_group('SDW_0.4')  # 量多的類別\n",
        "minority_class = grouped.get_group('SDW_1.2')  # 量少的類別\n",
        "\n",
        "# 從量多的類別中隨機抽樣，樣本數量與量少的類別相同\n",
        "majority_class_sampled = majority_class.sample(n=len(minority_class), random_state=42)\n",
        "\n",
        "# 合併抽樣后的多數類別和少數類別\n",
        "balanced_DDAc3 = pd.concat([majority_class_sampled, minority_class])\n",
        "\n",
        "# 顯示平衡后的數據集的前幾行\n",
        "print(balanced_DDAc3.head())\n",
        "\n",
        "# 計算第 5 列的類別變數數量\n",
        "DDAc3_y_counts_balance = balanced_DDAc3.iloc[:, 0].value_counts()\n",
        "\n",
        "# 顯示結果\n",
        "print(DDAc3_y_counts_balance)"
      ],
      "metadata": {
        "colab": {
          "base_uri": "https://localhost:8080/"
        },
        "id": "8dcOnqIlsC_r",
        "outputId": "43820574-442e-42b1-f0ab-ee504211330c"
      },
      "execution_count": null,
      "outputs": [
        {
          "output_type": "stream",
          "name": "stdout",
          "text": [
            "   event_id  speed   Age\n",
            "26  SDW_0.4   78.0  50.0\n",
            "27  SDW_0.4   77.0  50.0\n",
            "28  SDW_0.4   89.0  50.0\n",
            "29  SDW_0.4  104.0  50.0\n",
            "30  SDW_0.4   92.0  50.0\n",
            "    event_id  speed   Age\n",
            "111  SDW_0.4   97.0  35.0\n",
            "491  SDW_0.4  101.0  47.0\n",
            "882  SDW_0.4   90.0  51.0\n",
            "657  SDW_0.4   93.0  51.0\n",
            "262  SDW_0.4   92.0  49.0\n",
            "event_id\n",
            "SDW_0.4    116\n",
            "SDW_1.2    116\n",
            "Name: count, dtype: int64\n"
          ]
        }
      ]
    },
    {
      "cell_type": "code",
      "source": [
        "from sklearn.discriminant_analysis import LinearDiscriminantAnalysis as LDA\n",
        "X = balanced_DDAc3[['speed','Age']]\n",
        "y = balanced_DDAc3.loc[:,\"event_id\"]\n",
        "\n",
        "# Inotoalize and fit the LDA model\n",
        "lda_model = LDA()\n",
        "lda_model.fit(X,y)\n",
        "\n",
        "# Get the canonical variables\n",
        "canonical_vars = lda_model.transform(X)"
      ],
      "metadata": {
        "id": "2bVovwWxtUMY"
      },
      "execution_count": null,
      "outputs": []
    },
    {
      "cell_type": "code",
      "source": [
        "# Display the canonical variables\n",
        "print(\"Canonical Scores:\")\n",
        "print(canonical_vars[:6],\"...\",\"\\n\")\n",
        "\n",
        "# Inspect the intercept, coefficients and explained variance ratio\n",
        "print(\"Intercept of 3 canonical functions:\")\n",
        "print(lda_model.intercept_,\"\\n\")\n",
        "\n",
        "print(\"Coefficients of 3 canonical functions:\")\n",
        "print(lda_model.coef_,\"\\n\")\n",
        "\n",
        "print(\"Explained Variance Ratio:\")\n",
        "print(lda_model.explained_variance_ratio_,\"\\n\")"
      ],
      "metadata": {
        "colab": {
          "base_uri": "https://localhost:8080/"
        },
        "id": "Pn27bO2NtkD4",
        "outputId": "4b411d39-73d0-4f85-e278-57dfff5bdaaa"
      },
      "execution_count": null,
      "outputs": [
        {
          "output_type": "stream",
          "name": "stdout",
          "text": [
            "Canonical Scores:\n",
            "[[-1.59312233]\n",
            " [-0.47558863]\n",
            " [ 0.48794144]\n",
            " [ 0.3441801 ]\n",
            " [ 0.17389797]\n",
            " [ 0.3441801 ]] ... \n",
            "\n",
            "Intercept of 3 canonical functions:\n",
            "[-0.2729142] \n",
            "\n",
            "Coefficients of 3 canonical functions:\n",
            "[[-0.01713183  0.03900433]] \n",
            "\n",
            "Explained Variance Ratio:\n",
            "[1.] \n",
            "\n"
          ]
        }
      ]
    },
    {
      "cell_type": "code",
      "source": [
        "import pandas as pd\n",
        "import numpy as np\n",
        "from sklearn.ensemble import RandomForestClassifier\n",
        "import matplotlib.pyplot as plt\n",
        "\n",
        "# 假設您已有 X 和 y 數據\n",
        "# X 是包含特徵 LS 和 Age 的數據框，y 是目標變量\n",
        "\n",
        "# 初始化隨機森林模型\n",
        "rf_model = RandomForestClassifier(n_estimators=100, random_state=42)\n",
        "\n",
        "# 訓練模型\n",
        "rf_model.fit(X, y)\n",
        "\n",
        "# 獲取特徵的重要性\n",
        "feature_importances = rf_model.feature_importances_\n",
        "\n",
        "# 查看特徵的重要性\n",
        "feature_names = X.columns\n",
        "importance_dict = dict(zip(feature_names, feature_importances))\n",
        "print(\"特徵的重要性：\", importance_dict)\n",
        "\n",
        "# 可視化特徵重要性\n",
        "plt.figure(figsize=(10, 6))\n",
        "plt.bar(feature_names, feature_importances, color='skyblue')\n",
        "plt.xlabel('Features')\n",
        "plt.ylabel('Importance Score')\n",
        "plt.title('Feature Importance from Random Forest')\n",
        "plt.show()"
      ],
      "metadata": {
        "colab": {
          "base_uri": "https://localhost:8080/",
          "height": 582
        },
        "id": "A6CzeAy2tu6H",
        "outputId": "5e331a50-9bce-4b57-a3f4-1fd696ca6f43"
      },
      "execution_count": null,
      "outputs": [
        {
          "output_type": "stream",
          "name": "stdout",
          "text": [
            "特徵的重要性： {'speed': 0.6615755941202178, 'Age': 0.3384244058797822}\n"
          ]
        },
        {
          "output_type": "display_data",
          "data": {
            "text/plain": [
              "<Figure size 1000x600 with 1 Axes>"
            ],
            "image/png": "[encoded data removed]"
          },
          "metadata": {}
        }
      ]
    },
    {
      "cell_type": "code",
      "source": [
        "import matplotlib.pyplot as plt\n",
        "import seaborn as sns\n",
        "\n",
        "# Make predictions\n",
        "lda_values = lda_model.predict(X)\n",
        "lda_proba = lda_model.predict_proba(X)\n",
        "\n",
        "# Create a DataFrame to store the predictions\n",
        "lda_results = pd.DataFrame({\n",
        "    'Predicted_Class': lda_values,\n",
        "    'Predicted_Probability': [prob.round(3) for prob in lda_proba]#Probabilities for each class\n",
        "})\n",
        "\n",
        "# Add the predictions tp original DataFrame\n",
        "DDAc3_with_predictions = balanced_DDAc3.copy()\n",
        "DDAc3_with_predictions = pd.concat([DDAc3_with_predictions, lda_results],axis=1)\n",
        "\n",
        "# Display the first few rows\n",
        "print(\"\\nFirst few rows of predicitons:\")\n",
        "print(DDAc3_with_predictions.head(10))"
      ],
      "metadata": {
        "colab": {
          "base_uri": "https://localhost:8080/"
        },
        "id": "CyAGAQASuMcW",
        "outputId": "ce203ba0-bc54-42e4-b30e-21b9e672e31c"
      },
      "execution_count": null,
      "outputs": [
        {
          "output_type": "stream",
          "name": "stdout",
          "text": [
            "\n",
            "First few rows of predicitons:\n",
            "    event_id  speed   Age Predicted_Class Predicted_Probability\n",
            "111  SDW_0.4   97.0  35.0         SDW_0.4        [0.539, 0.461]\n",
            "491  SDW_0.4  101.0  47.0             NaN                   NaN\n",
            "882  SDW_0.4   90.0  51.0             NaN                   NaN\n",
            "657  SDW_0.4   93.0  51.0             NaN                   NaN\n",
            "262  SDW_0.4   92.0  49.0             NaN                   NaN\n",
            "890  SDW_0.4   93.0  51.0             NaN                   NaN\n",
            "95   SDW_0.4   97.0  35.0         SDW_0.4        [0.625, 0.375]\n",
            "280  SDW_0.4   99.0  49.0             NaN                   NaN\n",
            "116  SDW_0.4   89.0  35.0         SDW_1.2        [0.363, 0.637]\n",
            "205  SDW_0.4  101.0  57.0         SDW_1.2        [0.483, 0.517]\n"
          ]
        }
      ]
    },
    {
      "cell_type": "code",
      "source": [
        "from sklearn.metrics import confusion_matrix, accuracy_score, classification_report\n",
        "\n",
        "# Compute confusion matrix\n",
        "conf_atrix = confusion_matrix(y, lda_values, labels=lda_model.classes_)\n",
        "\n",
        "# Compute accuracy rate\n",
        "accuracy = accuracy_score(y, lda_values)\n",
        "\n",
        "# Plot confusion matrix\n",
        "plt.figure(figsize=(8, 6))\n",
        "sns.heatmap(conf_atrix, annot=True, fmt='d', cmap='Blues', xticklabels=lda_model.classes_, yticklabels=lda_model.classes_)\n",
        "plt.xlabel('Predicted')\n",
        "plt.ylabel('True')\n",
        "plt.title('Confusion Matrix')\n",
        "plt.show()"
      ],
      "metadata": {
        "colab": {
          "base_uri": "https://localhost:8080/",
          "height": 564
        },
        "id": "SLIUp2J9uYPi",
        "outputId": "99477edd-8f2f-410e-daba-1a9d6d61d040"
      },
      "execution_count": null,
      "outputs": [
        {
          "output_type": "display_data",
          "data": {
            "text/plain": [
              "<Figure size 800x600 with 2 Axes>"
            ],
            "image/png": "[encoded data removed]"
          },
          "metadata": {}
        }
      ]
    },
    {
      "cell_type": "code",
      "source": [
        "import numpy as np\n",
        "import matplotlib.pyplot as plt\n",
        "import seaborn as sns\n",
        "from sklearn.metrics import confusion_matrix, accuracy_score, classification_report\n",
        "\n",
        "# 計算混淆矩陣\n",
        "conf_atrix = confusion_matrix(y, lda_values, labels=lda_model.classes_)\n",
        "\n",
        "# 計算混淆矩陣每個類別的比例\n",
        "conf_atrix_percentage = conf_atrix.astype('float') / conf_atrix.sum(axis=1)[:, np.newaxis] * 100\n",
        "\n",
        "# 計算準確率\n",
        "accuracy = accuracy_score(y, lda_values)\n",
        "\n",
        "# 繪製混淆矩陣（百分比格式）\n",
        "plt.figure(figsize=(8, 6))\n",
        "sns.heatmap(conf_atrix_percentage, annot=True, fmt='.2f', cmap='Blues', xticklabels=lda_model.classes_, yticklabels=lda_model.classes_)\n",
        "plt.xlabel('Predicted')\n",
        "plt.ylabel('True')\n",
        "plt.title('Confusion Matrix (Percentage)')\n",
        "plt.show()"
      ],
      "metadata": {
        "colab": {
          "base_uri": "https://localhost:8080/",
          "height": 564
        },
        "id": "AO3VwjbwuldP",
        "outputId": "624364b9-1a8e-4a30-b5c0-5e3cec83ae84"
      },
      "execution_count": null,
      "outputs": [
        {
          "output_type": "display_data",
          "data": {
            "text/plain": [
              "<Figure size 800x600 with 2 Axes>"
            ],
            "image/png": "[encoded data removed]"
          },
          "metadata": {}
        }
      ]
    },
    {
      "cell_type": "code",
      "source": [
        "print(\"\\nAccuracy Rate:\")\n",
        "print(accuracy)"
      ],
      "metadata": {
        "colab": {
          "base_uri": "https://localhost:8080/"
        },
        "id": "ikgko_53uxX0",
        "outputId": "77bb39d9-524e-43b4-fd18-bf60ab244fed"
      },
      "execution_count": null,
      "outputs": [
        {
          "output_type": "stream",
          "name": "stdout",
          "text": [
            "\n",
            "Accuracy Rate:\n",
            "0.5387931034482759\n"
          ]
        }
      ]
    },
    {
      "cell_type": "code",
      "source": [
        "\n",
        "# Generate classidicaiton report\n",
        "report_ann = classification_report(y, lda_values)\n",
        "print(\"\\nClassification Report:\")\n",
        "print(report_ann)"
      ],
      "metadata": {
        "colab": {
          "base_uri": "https://localhost:8080/"
        },
        "id": "QP86Ym4Au27H",
        "outputId": "dd70f12a-cca3-4560-b049-54ab5753273b"
      },
      "execution_count": null,
      "outputs": [
        {
          "output_type": "stream",
          "name": "stdout",
          "text": [
            "\n",
            "Classification Report:\n",
            "              precision    recall  f1-score   support\n",
            "\n",
            "     SDW_0.4       0.54      0.57      0.55       116\n",
            "     SDW_1.2       0.54      0.51      0.52       116\n",
            "\n",
            "    accuracy                           0.54       232\n",
            "   macro avg       0.54      0.54      0.54       232\n",
            "weighted avg       0.54      0.54      0.54       232\n",
            "\n"
          ]
        }
      ]
    },
    {
      "cell_type": "markdown",
      "source": [
        "資料4"
      ],
      "metadata": {
        "id": "cxpDIQgB3ZhG"
      }
    },
    {
      "cell_type": "code",
      "source": [
        "# Choose variables(columns) and save as DDA\n",
        "columns_to_select4=[5 ,23]\n",
        "DDA4 = DDA_raw.iloc[:, columns_to_select4]\n",
        "\n",
        "#Display the first few rows of DDA to confirm\n",
        "print(DDA4.head())"
      ],
      "metadata": {
        "colab": {
          "base_uri": "https://localhost:8080/"
        },
        "id": "E_w0dWDv3Yo6",
        "outputId": "aa87e074-b7d3-410f-f814-ada067381dbd"
      },
      "execution_count": null,
      "outputs": [
        {
          "output_type": "stream",
          "name": "stdout",
          "text": [
            "  event_id  speed\n",
            "0  SDW_0.4   88.0\n",
            "1  SDW_0.4   92.0\n",
            "2  SDW_0.4   96.0\n",
            "3  SDW_0.4   93.0\n",
            "4  SDW_0.4  102.0\n"
          ]
        }
      ]
    },
    {
      "cell_type": "code",
      "source": [
        "DDAc4 = DDA4.dropna(axis=0, how='any')\n",
        "\n",
        "print(DDAc4)"
      ],
      "metadata": {
        "id": "B9TeOFpo3nvI",
        "colab": {
          "base_uri": "https://localhost:8080/"
        },
        "outputId": "7425852d-54ed-4c9f-f361-4e3198c1c622"
      },
      "execution_count": null,
      "outputs": [
        {
          "output_type": "stream",
          "name": "stdout",
          "text": [
            "     event_id  speed\n",
            "0     SDW_0.4   88.0\n",
            "1     SDW_0.4   92.0\n",
            "2     SDW_0.4   96.0\n",
            "3     SDW_0.4   93.0\n",
            "4     SDW_0.4  102.0\n",
            "...       ...    ...\n",
            "1319  SDW_1.2   94.0\n",
            "1320  SDW_1.2   97.0\n",
            "1321  SDW_1.2   85.0\n",
            "1322  SDW_1.2   93.0\n",
            "1323  SDW_1.2   92.0\n",
            "\n",
            "[1324 rows x 2 columns]\n"
          ]
        }
      ]
    },
    {
      "cell_type": "code",
      "source": [
        "import pandas as pd\n",
        "\n",
        "# 顯示 DDA 的前幾行以確認\n",
        "print(DDAc4.head())\n",
        "\n",
        "# 獲取第五列的名稱，方便引用\n",
        "column_name = DDAc4.columns[0]\n",
        "\n",
        "# 將數據按類別分組\n",
        "grouped = DDAc4.groupby(column_name)\n",
        "\n",
        "# 找到量多的類別並抽樣，使其與量少的類別匹配\n",
        "majority_class = grouped.get_group('SDW_0.4')  # 量多的類別\n",
        "minority_class = grouped.get_group('SDW_1.2')  # 量少的類別\n",
        "\n",
        "# 從量多的類別中隨機抽樣，樣本數量與量少的類別相同\n",
        "majority_class_sampled = majority_class.sample(n=len(minority_class), random_state=42)\n",
        "\n",
        "# 合併抽樣后的多數類別和少數類別\n",
        "balanced_DDAc4 = pd.concat([majority_class_sampled, minority_class])\n",
        "\n",
        "# 顯示平衡后的數據集的前幾行\n",
        "print(balanced_DDAc4.head())\n",
        "\n",
        "# 計算第 5 列的類別變數數量\n",
        "DDAc4_y_counts_balance = balanced_DDAc4.iloc[:, 0].value_counts()\n",
        "\n",
        "# 顯示結果\n",
        "print(DDAc4_y_counts_balance)"
      ],
      "metadata": {
        "colab": {
          "base_uri": "https://localhost:8080/"
        },
        "id": "TAZXjq3e4Kw8",
        "outputId": "7384c440-8c3a-46c4-865e-58d6edb4843a"
      },
      "execution_count": null,
      "outputs": [
        {
          "output_type": "stream",
          "name": "stdout",
          "text": [
            "  event_id  speed\n",
            "0  SDW_0.4   88.0\n",
            "1  SDW_0.4   92.0\n",
            "2  SDW_0.4   96.0\n",
            "3  SDW_0.4   93.0\n",
            "4  SDW_0.4  102.0\n",
            "    event_id  speed\n",
            "525  SDW_0.4   83.0\n",
            "357  SDW_0.4   87.0\n",
            "444  SDW_0.4  105.0\n",
            "31   SDW_0.4   88.0\n",
            "618  SDW_0.4   92.0\n",
            "event_id\n",
            "SDW_0.4    300\n",
            "SDW_1.2    300\n",
            "Name: count, dtype: int64\n"
          ]
        }
      ]
    },
    {
      "cell_type": "code",
      "source": [
        "from sklearn.discriminant_analysis import LinearDiscriminantAnalysis as LDA\n",
        "X = balanced_DDAc3[['speed']]\n",
        "y = balanced_DDAc3.loc[:,\"event_id\"]\n",
        "\n",
        "# Inotoalize and fit the LDA model\n",
        "lda_model = LDA()\n",
        "lda_model.fit(X,y)\n",
        "\n",
        "# Get the canonical variables\n",
        "canonical_vars = lda_model.transform(X)"
      ],
      "metadata": {
        "id": "OWjlyObM4dSh"
      },
      "execution_count": null,
      "outputs": []
    },
    {
      "cell_type": "code",
      "source": [
        "# Display the canonical variables\n",
        "print(\"Canonical Scores:\")\n",
        "print(canonical_vars[:6],\"...\",\"\\n\")\n",
        "\n",
        "# Inspect the intercept, coefficients and explained variance ratio\n",
        "print(\"Intercept of 3 canonical functions:\")\n",
        "print(lda_model.intercept_,\"\\n\")\n",
        "\n",
        "print(\"Coefficients of 3 canonical functions:\")\n",
        "print(lda_model.coef_,\"\\n\")\n",
        "\n",
        "print(\"Explained Variance Ratio:\")\n",
        "print(lda_model.explained_variance_ratio_,\"\\n\")"
      ],
      "metadata": {
        "colab": {
          "base_uri": "https://localhost:8080/"
        },
        "id": "fRKwttvT4mzT",
        "outputId": "ea354235-3e7d-4bde-85c9-02dd49bd3c6d"
      },
      "execution_count": null,
      "outputs": [
        {
          "output_type": "stream",
          "name": "stdout",
          "text": [
            "Canonical Scores:\n",
            "[[0.63734174]\n",
            " [0.92196788]\n",
            " [0.13924598]\n",
            " [0.35271559]\n",
            " [0.28155905]\n",
            " [0.35271559]] ... \n",
            "\n",
            "Intercept of 3 canonical functions:\n",
            "[1.63710508] \n",
            "\n",
            "Coefficients of 3 canonical functions:\n",
            "[[-0.01859436]] \n",
            "\n",
            "Explained Variance Ratio:\n",
            "[1.] \n",
            "\n"
          ]
        }
      ]
    },
    {
      "cell_type": "code",
      "source": [
        "import matplotlib.pyplot as plt\n",
        "import seaborn as sns\n",
        "\n",
        "# Make predictions\n",
        "lda_values = lda_model.predict(X)\n",
        "lda_proba = lda_model.predict_proba(X)\n",
        "\n",
        "# Create a DataFrame to store the predictions\n",
        "lda_results = pd.DataFrame({\n",
        "    'Predicted_Class': lda_values,\n",
        "    'Predicted_Probability': [prob.round(3) for prob in lda_proba]#Probabilities for each class\n",
        "})\n",
        "\n",
        "# Add the predictions tp original DataFrame\n",
        "DDAc4_with_predictions = balanced_DDAc4.copy()\n",
        "DDAc4_with_predictions = pd.concat([DDAc4_with_predictions, lda_results],axis=1)\n",
        "\n",
        "# Display the first few rows\n",
        "print(\"\\nFirst few rows of predicitons:\")\n",
        "print(DDAc3_with_predictions.head(10))"
      ],
      "metadata": {
        "colab": {
          "base_uri": "https://localhost:8080/"
        },
        "id": "Qt0fVmzh4_rI",
        "outputId": "35ae1079-2dba-4703-9e1f-b86f47959bbf"
      },
      "execution_count": null,
      "outputs": [
        {
          "output_type": "stream",
          "name": "stdout",
          "text": [
            "\n",
            "First few rows of predicitons:\n",
            "    event_id  speed   Age Predicted_Class Predicted_Probability\n",
            "111  SDW_0.4   97.0  35.0         SDW_0.4        [0.539, 0.461]\n",
            "491  SDW_0.4  101.0  47.0             NaN                   NaN\n",
            "882  SDW_0.4   90.0  51.0             NaN                   NaN\n",
            "657  SDW_0.4   93.0  51.0             NaN                   NaN\n",
            "262  SDW_0.4   92.0  49.0             NaN                   NaN\n",
            "890  SDW_0.4   93.0  51.0             NaN                   NaN\n",
            "95   SDW_0.4   97.0  35.0         SDW_0.4        [0.625, 0.375]\n",
            "280  SDW_0.4   99.0  49.0             NaN                   NaN\n",
            "116  SDW_0.4   89.0  35.0         SDW_1.2        [0.363, 0.637]\n",
            "205  SDW_0.4  101.0  57.0         SDW_1.2        [0.483, 0.517]\n"
          ]
        }
      ]
    },
    {
      "cell_type": "code",
      "source": [
        "from sklearn.metrics import confusion_matrix, accuracy_score, classification_report\n",
        "\n",
        "# Compute confusion matrix\n",
        "conf_atrix = confusion_matrix(y, lda_values, labels=lda_model.classes_)\n",
        "\n",
        "# Compute accuracy rate\n",
        "accuracy = accuracy_score(y, lda_values)\n",
        "\n",
        "# Plot confusion matrix\n",
        "plt.figure(figsize=(8, 6))\n",
        "sns.heatmap(conf_atrix, annot=True, fmt='d', cmap='Blues', xticklabels=lda_model.classes_, yticklabels=lda_model.classes_)\n",
        "plt.xlabel('Predicted')\n",
        "plt.ylabel('True')\n",
        "plt.title('Confusion Matrix')\n",
        "plt.show()"
      ],
      "metadata": {
        "colab": {
          "base_uri": "https://localhost:8080/",
          "height": 564
        },
        "id": "mpRXdJrj5K8d",
        "outputId": "264c34e9-1f4f-4902-93ee-8baeb45a615a"
      },
      "execution_count": null,
      "outputs": [
        {
          "output_type": "display_data",
          "data": {
            "text/plain": [
              "<Figure size 800x600 with 2 Axes>"
            ],
            "image/png": "[encoded data removed]"
          },
          "metadata": {}
        }
      ]
    },
    {
      "cell_type": "code",
      "source": [
        "import numpy as np\n",
        "import matplotlib.pyplot as plt\n",
        "import seaborn as sns\n",
        "from sklearn.metrics import confusion_matrix, accuracy_score, classification_report\n",
        "\n",
        "# 計算混淆矩陣\n",
        "conf_atrix = confusion_matrix(y, lda_values, labels=lda_model.classes_)\n",
        "\n",
        "# 計算混淆矩陣每個類別的比例\n",
        "conf_atrix_percentage = conf_atrix.astype('float') / conf_atrix.sum(axis=1)[:, np.newaxis] * 100\n",
        "\n",
        "# 計算準確率\n",
        "accuracy = accuracy_score(y, lda_values)\n",
        "\n",
        "# 繪製混淆矩陣（百分比格式）\n",
        "plt.figure(figsize=(8, 6))\n",
        "sns.heatmap(conf_atrix_percentage, annot=True, fmt='.2f', cmap='Blues', xticklabels=lda_model.classes_, yticklabels=lda_model.classes_)\n",
        "plt.xlabel('Predicted')\n",
        "plt.ylabel('True')\n",
        "plt.title('Confusion Matrix (Percentage)')\n",
        "plt.show()"
      ],
      "metadata": {
        "id": "GMmNG_Xv5QZA",
        "outputId": "25c6869f-a567-47fc-f151-614b5da0f752",
        "colab": {
          "base_uri": "https://localhost:8080/",
          "height": 564
        }
      },
      "execution_count": null,
      "outputs": [
        {
          "output_type": "display_data",
          "data": {
            "text/plain": [
              "<Figure size 800x600 with 2 Axes>"
            ],
            "image/png": "[encoded data removed]"
          },
          "metadata": {}
        }
      ]
    },
    {
      "cell_type": "code",
      "source": [
        "print(\"\\nAccuracy Rate:\")\n",
        "print(accuracy)"
      ],
      "metadata": {
        "id": "XFxKBRCz5U18",
        "colab": {
          "base_uri": "https://localhost:8080/"
        },
        "outputId": "87bfac9f-d051-44ca-d922-b37b938467f3"
      },
      "execution_count": null,
      "outputs": [
        {
          "output_type": "stream",
          "name": "stdout",
          "text": [
            "\n",
            "Accuracy Rate:\n",
            "0.5\n"
          ]
        }
      ]
    },
    {
      "cell_type": "code",
      "source": [
        "\n",
        "# Generate classidicaiton report\n",
        "report_ann = classification_report(y, lda_values)\n",
        "print(\"\\nClassification Report:\")\n",
        "print(report_ann)"
      ],
      "metadata": {
        "colab": {
          "base_uri": "https://localhost:8080/"
        },
        "id": "HE2xYmoG5hOg",
        "outputId": "2e5244c2-1a39-4876-deb1-8b4fa09e8e58"
      },
      "execution_count": null,
      "outputs": [
        {
          "output_type": "stream",
          "name": "stdout",
          "text": [
            "\n",
            "Classification Report:\n",
            "              precision    recall  f1-score   support\n",
            "\n",
            "     SDW_0.4       0.50      0.62      0.55       116\n",
            "     SDW_1.2       0.50      0.38      0.43       116\n",
            "\n",
            "    accuracy                           0.50       232\n",
            "   macro avg       0.50      0.50      0.49       232\n",
            "weighted avg       0.50      0.50      0.49       232\n",
            "\n"
          ]
        }
      ]
    },
    {
      "cell_type": "code",
      "source": [
        "import matplotlib.pyplot as plt\n",
        "import seaborn as sns\n",
        "\n",
        "# Convert the canonical variables to a DataFrame\n",
        "canonical_df=pd.DataFrame(canonical_vars, columns=['DF1','DF2'])\n",
        "canonical_df['Group']=y.values # Add the group labels to the DataFrame\n",
        "\n",
        "# Plotting\n",
        "plt.figure(figsize=(10,6))\n",
        "sns.scatterplot(data=canonical_df, x='DF1', y='DF2', hue='Group', s=100, edgecolor=\"k\")\n",
        "\n",
        "# Add plot details\n",
        "plt.title('Canonical Score Plot')\n",
        "plt.xlabel('Discriminat Function 1 (DF1)')\n",
        "plt.ylabel('Discriminat Function 2 (DF2)')\n",
        "plt.legend(title='Group')\n",
        "plt.grid(True)\n",
        "plt.show()"
      ],
      "metadata": {
        "colab": {
          "base_uri": "https://localhost:8080/",
          "height": 385
        },
        "id": "5ZE2wpuamayP",
        "outputId": "1e10d003-7a07-49d6-81cc-95568a77dc34"
      },
      "execution_count": null,
      "outputs": [
        {
          "output_type": "error",
          "ename": "ValueError",
          "evalue": "Shape of passed values is (232, 1), indices imply (232, 2)",
          "traceback": [
            "\u001b[0;31m---------------------------------------------------------------------------\u001b[0m",
            "\u001b[0;31mValueError\u001b[0m                                Traceback (most recent call last)",
            "\u001b[0;32m<ipython-input-216-de8b26ddb19b>\u001b[0m in \u001b[0;36m<cell line: 5>\u001b[0;34m()\u001b[0m\n\u001b[1;32m      3\u001b[0m \u001b[0;34m\u001b[0m\u001b[0m\n\u001b[1;32m      4\u001b[0m \u001b[0;31m# Convert the canonical variables to a DataFrame\u001b[0m\u001b[0;34m\u001b[0m\u001b[0;34m\u001b[0m\u001b[0m\n\u001b[0;32m----> 5\u001b[0;31m \u001b[0mcanonical_df\u001b[0m\u001b[0;34m=\u001b[0m\u001b[0mpd\u001b[0m\u001b[0;34m.\u001b[0m\u001b[0mDataFrame\u001b[0m\u001b[0;34m(\u001b[0m\u001b[0mcanonical_vars\u001b[0m\u001b[0;34m,\u001b[0m \u001b[0mcolumns\u001b[0m\u001b[0;34m=\u001b[0m\u001b[0;34m[\u001b[0m\u001b[0;34m'DF1'\u001b[0m\u001b[0;34m,\u001b[0m\u001b[0;34m'DF2'\u001b[0m\u001b[0;34m]\u001b[0m\u001b[0;34m)\u001b[0m\u001b[0;34m\u001b[0m\u001b[0;34m\u001b[0m\u001b[0m\n\u001b[0m\u001b[1;32m      6\u001b[0m \u001b[0mcanonical_df\u001b[0m\u001b[0;34m[\u001b[0m\u001b[0;34m'Group'\u001b[0m\u001b[0;34m]\u001b[0m\u001b[0;34m=\u001b[0m\u001b[0my\u001b[0m\u001b[0;34m.\u001b[0m\u001b[0mvalues\u001b[0m \u001b[0;31m# Add the group labels to the DataFrame\u001b[0m\u001b[0;34m\u001b[0m\u001b[0;34m\u001b[0m\u001b[0m\n\u001b[1;32m      7\u001b[0m \u001b[0;34m\u001b[0m\u001b[0m\n",
            "\u001b[0;32m/usr/local/lib/python3.10/dist-packages/pandas/core/frame.py\u001b[0m in \u001b[0;36m__init__\u001b[0;34m(self, data, index, columns, dtype, copy)\u001b[0m\n\u001b[1;32m    825\u001b[0m                 )\n\u001b[1;32m    826\u001b[0m             \u001b[0;32melse\u001b[0m\u001b[0;34m:\u001b[0m\u001b[0;34m\u001b[0m\u001b[0;34m\u001b[0m\u001b[0m\n\u001b[0;32m--> 827\u001b[0;31m                 mgr = ndarray_to_mgr(\n\u001b[0m\u001b[1;32m    828\u001b[0m                     \u001b[0mdata\u001b[0m\u001b[0;34m,\u001b[0m\u001b[0;34m\u001b[0m\u001b[0;34m\u001b[0m\u001b[0m\n\u001b[1;32m    829\u001b[0m                     \u001b[0mindex\u001b[0m\u001b[0;34m,\u001b[0m\u001b[0;34m\u001b[0m\u001b[0;34m\u001b[0m\u001b[0m\n",
            "\u001b[0;32m/usr/local/lib/python3.10/dist-packages/pandas/core/internals/construction.py\u001b[0m in \u001b[0;36mndarray_to_mgr\u001b[0;34m(values, index, columns, dtype, copy, typ)\u001b[0m\n\u001b[1;32m    334\u001b[0m     )\n\u001b[1;32m    335\u001b[0m \u001b[0;34m\u001b[0m\u001b[0m\n\u001b[0;32m--> 336\u001b[0;31m     \u001b[0m_check_values_indices_shape_match\u001b[0m\u001b[0;34m(\u001b[0m\u001b[0mvalues\u001b[0m\u001b[0;34m,\u001b[0m \u001b[0mindex\u001b[0m\u001b[0;34m,\u001b[0m \u001b[0mcolumns\u001b[0m\u001b[0;34m)\u001b[0m\u001b[0;34m\u001b[0m\u001b[0;34m\u001b[0m\u001b[0m\n\u001b[0m\u001b[1;32m    337\u001b[0m \u001b[0;34m\u001b[0m\u001b[0m\n\u001b[1;32m    338\u001b[0m     \u001b[0;32mif\u001b[0m \u001b[0mtyp\u001b[0m \u001b[0;34m==\u001b[0m \u001b[0;34m\"array\"\u001b[0m\u001b[0;34m:\u001b[0m\u001b[0;34m\u001b[0m\u001b[0;34m\u001b[0m\u001b[0m\n",
            "\u001b[0;32m/usr/local/lib/python3.10/dist-packages/pandas/core/internals/construction.py\u001b[0m in \u001b[0;36m_check_values_indices_shape_match\u001b[0;34m(values, index, columns)\u001b[0m\n\u001b[1;32m    418\u001b[0m         \u001b[0mpassed\u001b[0m \u001b[0;34m=\u001b[0m \u001b[0mvalues\u001b[0m\u001b[0;34m.\u001b[0m\u001b[0mshape\u001b[0m\u001b[0;34m\u001b[0m\u001b[0;34m\u001b[0m\u001b[0m\n\u001b[1;32m    419\u001b[0m         \u001b[0mimplied\u001b[0m \u001b[0;34m=\u001b[0m \u001b[0;34m(\u001b[0m\u001b[0mlen\u001b[0m\u001b[0;34m(\u001b[0m\u001b[0mindex\u001b[0m\u001b[0;34m)\u001b[0m\u001b[0;34m,\u001b[0m \u001b[0mlen\u001b[0m\u001b[0;34m(\u001b[0m\u001b[0mcolumns\u001b[0m\u001b[0;34m)\u001b[0m\u001b[0;34m)\u001b[0m\u001b[0;34m\u001b[0m\u001b[0;34m\u001b[0m\u001b[0m\n\u001b[0;32m--> 420\u001b[0;31m         \u001b[0;32mraise\u001b[0m \u001b[0mValueError\u001b[0m\u001b[0;34m(\u001b[0m\u001b[0;34mf\"Shape of passed values is {passed}, indices imply {implied}\"\u001b[0m\u001b[0;34m)\u001b[0m\u001b[0;34m\u001b[0m\u001b[0;34m\u001b[0m\u001b[0m\n\u001b[0m\u001b[1;32m    421\u001b[0m \u001b[0;34m\u001b[0m\u001b[0m\n\u001b[1;32m    422\u001b[0m \u001b[0;34m\u001b[0m\u001b[0m\n",
            "\u001b[0;31mValueError\u001b[0m: Shape of passed values is (232, 1), indices imply (232, 2)"
          ]
        }
      ]
    }
  ]
}