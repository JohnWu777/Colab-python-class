{
  "nbformat": 4,
  "nbformat_minor": 0,
  "metadata": {
    "colab": {
      "provenance": [],
      "authorship_tag": "ABX9TyOnlCjtz/2+ox2amnTo6wiL",
      "include_colab_link": true
    },
    "kernelspec": {
      "name": "python3",
      "display_name": "Python 3"
    },
    "language_info": {
      "name": "python"
    }
  },
  "cells": [
    {
      "cell_type": "markdown",
      "metadata": {
        "id": "view-in-github",
        "colab_type": "text"
      },
      "source": [
        "<a href=\"https://colab.research.google.com/github/JohnWu777/Colab-python-class/blob/main/MA_HW1.ipynb\" target=\"_parent\"><img src=\"https://colab.research.google.com/assets/colab-badge.svg\" alt=\"Open In Colab\"/></a>"
      ]
    },
    {
      "cell_type": "markdown",
      "source": [],
      "metadata": {
        "id": "p6OZdQPpq7lg"
      }
    },
    {
      "cell_type": "markdown",
      "source": [
        "# 環境設置"
      ],
      "metadata": {
        "id": "yqHAE_6lrDAA"
      }
    },
    {
      "cell_type": "code",
      "source": [
        "# 輸入pandas＝pd (pandas是python的資料分析程式庫)\n",
        "import pandas as pd\n",
        "# 輸入numpy=np (numpy是python的函數庫)\n",
        "import numpy as np\n",
        "# 讀取CSV文件，取名manova_data_raw\n",
        "manova_data_raw = pd.read_csv(\"HW1-data.csv\")"
      ],
      "metadata": {
        "id": "KVnPMBkQSqO9"
      },
      "execution_count": 16,
      "outputs": []
    },
    {
      "cell_type": "code",
      "source": [
        "#選擇要分析的特定行（colums）[ethnic,gender,reading_3,math_3]\n",
        "manova_data = manova_data_raw.iloc[:,[2,3,11,12]].copy()\n",
        "#刪除ethnic的空格\n",
        "manova_data['ethnic'] = manova_data['ethnic'].str.strip()\n",
        "#確認資料結類型\n",
        "print(manova_data.dtypes)"
      ],
      "metadata": {
        "colab": {
          "base_uri": "https://localhost:8080/",
          "height": 0
        },
        "id": "hF29x2ZPWa0A",
        "outputId": "ab598bc0-975d-480a-a28a-ed946672a445"
      },
      "execution_count": 17,
      "outputs": [
        {
          "output_type": "stream",
          "name": "stdout",
          "text": [
            "ethnic       object\n",
            "gender        int64\n",
            "reading_3     int64\n",
            "math_3        int64\n",
            "dtype: object\n"
          ]
        }
      ]
    },
    {
      "cell_type": "code",
      "source": [
        "#轉換ethnic和gender數據類型為category\n",
        "manova_data['ethnic'] = manova_data['ethnic'].astype('category')\n",
        "manova_data['gender'] = manova_data['gender'].astype('category')\n",
        "#0替換為女,1替換為男\n",
        "manova_data['gender'] = manova_data['gender'].replace({0:'female',1:'male'})\n",
        "#確認資料結類型\n",
        "print(manova_data.dtypes)"
      ],
      "metadata": {
        "colab": {
          "base_uri": "https://localhost:8080/",
          "height": 0
        },
        "id": "sjaAlkglYdD2",
        "outputId": "e83af9ce-d8ba-4ed7-ac5e-51040d4737c2"
      },
      "execution_count": 18,
      "outputs": [
        {
          "output_type": "stream",
          "name": "stdout",
          "text": [
            "ethnic       category\n",
            "gender       category\n",
            "reading_3       int64\n",
            "math_3          int64\n",
            "dtype: object\n"
          ]
        },
        {
          "output_type": "stream",
          "name": "stderr",
          "text": [
            "<ipython-input-18-ed56294b8a3d>:5: FutureWarning: The behavior of Series.replace (and DataFrame.replace) with CategoricalDtype is deprecated. In a future version, replace will only be used for cases that preserve the categories. To change the categories, use ser.cat.rename_categories instead.\n",
            "  manova_data['gender'] = manova_data['gender'].replace({0:'female',1:'male'})\n"
          ]
        }
      ]
    },
    {
      "cell_type": "code",
      "execution_count": 19,
      "metadata": {
        "colab": {
          "base_uri": "https://localhost:8080/",
          "height": 0
        },
        "id": "MK0Dvi4PSDJt",
        "outputId": "31d68d3e-427b-4521-cfc5-660704933d22"
      },
      "outputs": [
        {
          "output_type": "stream",
          "name": "stdout",
          "text": [
            "Requirement already satisfied: pingouin in /usr/local/lib/python3.10/dist-packages (0.5.5)\n",
            "Requirement already satisfied: matplotlib in /usr/local/lib/python3.10/dist-packages (from pingouin) (3.7.1)\n",
            "Requirement already satisfied: numpy in /usr/local/lib/python3.10/dist-packages (from pingouin) (1.26.4)\n",
            "Requirement already satisfied: pandas>=1.5 in /usr/local/lib/python3.10/dist-packages (from pingouin) (2.2.2)\n",
            "Requirement already satisfied: pandas-flavor in /usr/local/lib/python3.10/dist-packages (from pingouin) (0.6.0)\n",
            "Requirement already satisfied: scikit-learn>=1.2 in /usr/local/lib/python3.10/dist-packages (from pingouin) (1.5.2)\n",
            "Requirement already satisfied: scipy in /usr/local/lib/python3.10/dist-packages (from pingouin) (1.13.1)\n",
            "Requirement already satisfied: seaborn in /usr/local/lib/python3.10/dist-packages (from pingouin) (0.13.2)\n",
            "Requirement already satisfied: statsmodels in /usr/local/lib/python3.10/dist-packages (from pingouin) (0.14.4)\n",
            "Requirement already satisfied: tabulate in /usr/local/lib/python3.10/dist-packages (from pingouin) (0.9.0)\n",
            "Requirement already satisfied: python-dateutil>=2.8.2 in /usr/local/lib/python3.10/dist-packages (from pandas>=1.5->pingouin) (2.8.2)\n",
            "Requirement already satisfied: pytz>=2020.1 in /usr/local/lib/python3.10/dist-packages (from pandas>=1.5->pingouin) (2024.2)\n",
            "Requirement already satisfied: tzdata>=2022.7 in /usr/local/lib/python3.10/dist-packages (from pandas>=1.5->pingouin) (2024.2)\n",
            "Requirement already satisfied: joblib>=1.2.0 in /usr/local/lib/python3.10/dist-packages (from scikit-learn>=1.2->pingouin) (1.4.2)\n",
            "Requirement already satisfied: threadpoolctl>=3.1.0 in /usr/local/lib/python3.10/dist-packages (from scikit-learn>=1.2->pingouin) (3.5.0)\n",
            "Requirement already satisfied: contourpy>=1.0.1 in /usr/local/lib/python3.10/dist-packages (from matplotlib->pingouin) (1.3.0)\n",
            "Requirement already satisfied: cycler>=0.10 in /usr/local/lib/python3.10/dist-packages (from matplotlib->pingouin) (0.12.1)\n",
            "Requirement already satisfied: fonttools>=4.22.0 in /usr/local/lib/python3.10/dist-packages (from matplotlib->pingouin) (4.54.1)\n",
            "Requirement already satisfied: kiwisolver>=1.0.1 in /usr/local/lib/python3.10/dist-packages (from matplotlib->pingouin) (1.4.7)\n",
            "Requirement already satisfied: packaging>=20.0 in /usr/local/lib/python3.10/dist-packages (from matplotlib->pingouin) (24.1)\n",
            "Requirement already satisfied: pillow>=6.2.0 in /usr/local/lib/python3.10/dist-packages (from matplotlib->pingouin) (10.4.0)\n",
            "Requirement already satisfied: pyparsing>=2.3.1 in /usr/local/lib/python3.10/dist-packages (from matplotlib->pingouin) (3.1.4)\n",
            "Requirement already satisfied: xarray in /usr/local/lib/python3.10/dist-packages (from pandas-flavor->pingouin) (2024.9.0)\n",
            "Requirement already satisfied: patsy>=0.5.6 in /usr/local/lib/python3.10/dist-packages (from statsmodels->pingouin) (0.5.6)\n",
            "Requirement already satisfied: six in /usr/local/lib/python3.10/dist-packages (from patsy>=0.5.6->statsmodels->pingouin) (1.16.0)\n"
          ]
        }
      ],
      "source": [
        "# 安裝 pingouin套件\n",
        "%pip install pingouin\n",
        "# 輸入pingouin＝pg\n",
        "import pingouin as pg"
      ]
    },
    {
      "cell_type": "markdown",
      "source": [
        "# 檢驗共變異矩陣（Box'M test）"
      ],
      "metadata": {
        "id": "SEyaRo-DrHRx"
      }
    },
    {
      "cell_type": "code",
      "source": [
        "# gender 做Box'M test (檢驗性別組間[男v.s.女]共變異數矩陣是否相等)\n",
        "box_m_test_g = pg.box_m(manova_data, dvs=['reading_3','math_3'],group='gender',alpha=0.0001)\n",
        "print(box_m_test_g)\n",
        "# ethnic 做Box'M test (檢驗性別組間[不同種族]共變異數矩陣是否相等)\n",
        "box_m_test_e = pg.box_m(manova_data, dvs=['reading_3','math_3'],group='ethnic',alpha=0.0001)\n",
        "print(box_m_test_e)"
      ],
      "metadata": {
        "colab": {
          "base_uri": "https://localhost:8080/",
          "height": 0
        },
        "id": "BB0gOnKbaiYw",
        "outputId": "57a11291-ec81-4640-e9cd-6ed91dbb03b6"
      },
      "execution_count": 20,
      "outputs": [
        {
          "output_type": "stream",
          "name": "stdout",
          "text": [
            "         Chi2   df      pval  equal_cov\n",
            "box  4.069624  3.0  0.254043       True\n",
            "          Chi2   df      pval  equal_cov\n",
            "box  16.935469  6.0  0.009523       True\n"
          ]
        }
      ]
    },
    {
      "cell_type": "markdown",
      "source": [
        "equal_cov=True（各變異數的共變異數矩陣相等）\n",
        "P value > a(=0.0001)，不拒絕H0，不存在差異"
      ],
      "metadata": {
        "id": "M9KaW0ezaspj"
      }
    },
    {
      "cell_type": "markdown",
      "source": [
        "# 檢驗多元常態分佈（Henze-Zirkler test）"
      ],
      "metadata": {
        "id": "LrpUpcLorUY4"
      }
    },
    {
      "cell_type": "code",
      "source": [
        "# 多元常態分佈檢驗（使用Henze-Zirkler test）\n",
        "from pingouin import multivariate_normality as mn\n",
        "# 拆分性別資料集（男、女）\n",
        "FIX_G = manova_data.groupby('gender')\n",
        "female_data = FIX_G.get_group('female')\n",
        "male_data = FIX_G.get_group('male')\n",
        "# （男、女）多元常態分佈檢驗\n",
        "female_mntest = mn(female_data[['reading_3','math_3']],alpha=0.5)\n",
        "male_mntest = mn(male_data[['reading_3','math_3']],alpha=0.5)\n",
        "print(female_mntest)\n",
        "print(male_mntest)"
      ],
      "metadata": {
        "colab": {
          "base_uri": "https://localhost:8080/",
          "height": 0
        },
        "id": "RLOIGlJ4bT9V",
        "outputId": "3988465c-bec1-4b58-f2c3-0aa3af6d2cf7"
      },
      "execution_count": 21,
      "outputs": [
        {
          "output_type": "stream",
          "name": "stdout",
          "text": [
            "HZResults(hz=52.03983616528838, pval=5.0138039859526384e-39, normal=False)\n",
            "HZResults(hz=62.270144994981386, pval=8.954408458776431e-43, normal=False)\n"
          ]
        },
        {
          "output_type": "stream",
          "name": "stderr",
          "text": [
            "<ipython-input-21-455e0e348849>:4: FutureWarning: The default of observed=False is deprecated and will be changed to True in a future version of pandas. Pass observed=False to retain current behavior or observed=True to adopt the future default and silence this warning.\n",
            "  FIX_G = manova_data.groupby('gender')\n"
          ]
        }
      ]
    },
    {
      "cell_type": "markdown",
      "source": [
        "normal=False 不符合多元常態\n",
        "\n"
      ],
      "metadata": {
        "id": "KPofsaPtf90s"
      }
    },
    {
      "cell_type": "markdown",
      "source": [
        "# MANOVA"
      ],
      "metadata": {
        "id": "fKEf9QN8q1BX"
      }
    },
    {
      "cell_type": "code",
      "source": [
        "# 輸入statsmodels套件裡的MANOVA功能\n",
        "from statsmodels.multivariate.manova import MANOVA\n",
        "# 建立MANOV方程式\n",
        "formula = 'reading_3+math_3~ethnic * gender'\n",
        "# 執行MANOVA\n",
        "manova_model = MANOVA.from_formula(formula,data=manova_data)\n",
        "manova_results = manova_model.mv_test()\n",
        "# 輸出MANOVA結果\n",
        "print(manova_results)"
      ],
      "metadata": {
        "colab": {
          "base_uri": "https://localhost:8080/",
          "height": 0
        },
        "id": "qip2C3v8gUxG",
        "outputId": "c6d32417-d806-45cb-c71f-d438ea9018e5"
      },
      "execution_count": 22,
      "outputs": [
        {
          "output_type": "stream",
          "name": "stdout",
          "text": [
            "                    Multivariate linear model\n",
            "==================================================================\n",
            "                                                                  \n",
            "------------------------------------------------------------------\n",
            "       Intercept         Value   Num DF  Den DF   F Value   Pr > F\n",
            "------------------------------------------------------------------\n",
            "          Wilks' lambda   0.0017 2.0000 186.0000 56089.7107 0.0000\n",
            "         Pillai's trace   0.9983 2.0000 186.0000 56089.7107 0.0000\n",
            " Hotelling-Lawley trace 603.1152 2.0000 186.0000 56089.7107 0.0000\n",
            "    Roy's greatest root 603.1152 2.0000 186.0000 56089.7107 0.0000\n",
            "------------------------------------------------------------------\n",
            "                                                                  \n",
            "-------------------------------------------------------------------\n",
            "          ethnic          Value   Num DF   Den DF   F Value  Pr > F\n",
            "-------------------------------------------------------------------\n",
            "           Wilks' lambda  0.9288  4.0000  372.0000   3.5012  0.0080\n",
            "          Pillai's trace  0.0725  4.0000  374.0000   3.5147  0.0078\n",
            "  Hotelling-Lawley trace  0.0754  4.0000  222.1641   3.5003  0.0085\n",
            "     Roy's greatest root  0.0486  2.0000  187.0000   4.5424  0.0118\n",
            "------------------------------------------------------------------\n",
            "                                                                  \n",
            "-------------------------------------------------------------------\n",
            "          gender          Value   Num DF   Den DF   F Value  Pr > F\n",
            "-------------------------------------------------------------------\n",
            "           Wilks' lambda  0.9968  2.0000  186.0000   0.3005  0.7408\n",
            "          Pillai's trace  0.0032  2.0000  186.0000   0.3005  0.7408\n",
            "  Hotelling-Lawley trace  0.0032  2.0000  186.0000   0.3005  0.7408\n",
            "     Roy's greatest root  0.0032  2.0000  186.0000   0.3005  0.7408\n",
            "------------------------------------------------------------------\n",
            "                                                                  \n",
            "-------------------------------------------------------------------\n",
            "      ethnic:gender       Value   Num DF   Den DF   F Value  Pr > F\n",
            "-------------------------------------------------------------------\n",
            "           Wilks' lambda  0.9610  4.0000  372.0000   1.8666  0.1156\n",
            "          Pillai's trace  0.0390  4.0000  374.0000   1.8590  0.1170\n",
            "  Hotelling-Lawley trace  0.0405  4.0000  222.1641   1.8809  0.1147\n",
            "     Roy's greatest root  0.0399  2.0000  187.0000   3.7327  0.0257\n",
            "==================================================================\n",
            "\n"
          ]
        }
      ]
    },
    {
      "cell_type": "markdown",
      "source": [
        "根據結果可以看出ethnic具有顯著差異（看Wilks' lambda=0.92,p<0.01）\n",
        "因此繼續做post-hoc"
      ],
      "metadata": {
        "id": "IgjUBKpIimjn"
      }
    },
    {
      "cell_type": "markdown",
      "source": [
        "# 畫圖 mean plot"
      ],
      "metadata": {
        "id": "PCV3TVDNjViJ"
      }
    },
    {
      "cell_type": "code",
      "source": [
        "# 輸入seaborn繪圖套件\n",
        "import seaborn as sns\n",
        "# 輸入matplotlib繪圖套件\n",
        "import matplotlib.pyplot as plt\n",
        "#畫出群組平均值和置信區間\n",
        "##確定圖片大小\n",
        "plt.figure(figsize=(12,8))\n",
        "#按照「種族」和「性別」劃分reading_3\n",
        "  ##確定圖片在象限上的位置\n",
        "plt.subplot(2,2,1)\n",
        "  ##圖片參數設定\n",
        "sns.pointplot(x='ethnic',y='reading_3',hue='gender',data=manova_data,dodge=True, errorbar=('ci',95),markers=['o','s'],linestyles=['-','--'])\n",
        "  ##圖片titl,x,y軸取名\n",
        "plt.title('Mean Plot for reading_3 by Ethnicity and Gender')\n",
        "plt.xlabel('Ethnicirt')\n",
        "plt.ylabel('Mean reading_3')\n",
        "#按照「性別」和「種族」劃分reading_3\n",
        "  ##確定圖片在象限上的位置\n",
        "plt.subplot(2,2,2)\n",
        "  ##圖片參數設定\n",
        "sns.pointplot(x='gender',y='reading_3',hue='ethnic',data=manova_data,dodge=True, errorbar=('ci',95),markers=['o','s','^'],linestyles=['-','--','-.'])\n",
        "  ##圖片titl,x,y軸取名\n",
        "plt.title('Mean Plot for reading_3 by Gender and Ethnicity')\n",
        "plt.xlabel('Gender')\n",
        "plt.ylabel('Mean reading_3')\n",
        "#按照「種族」和「性別」劃分math_3\n",
        "  ##確定圖片在象限上的位置\n",
        "plt.subplot(2,2,3)\n",
        "  ##圖片參數設定\n",
        "sns.pointplot(x='ethnic',y='math_3',hue='gender',data=manova_data,dodge=True, errorbar=('ci',95),markers=['o','s'],linestyles=['-','--'])\n",
        "  ##圖片titl,x,y軸取名\n",
        "plt.title('Mean Plot for math_3 by Ethnicity and Gender')\n",
        "plt.xlabel('Ethnicirt')\n",
        "plt.ylabel('Mean math_3')\n",
        "#按照「性別」和「種族」劃分math_3\n",
        "  ##確定圖片在象限上的位置\n",
        "plt.subplot(2,2,4)\n",
        "  ##圖片參數設定\n",
        "sns.pointplot(x='gender',y='math_3',hue='ethnic',data=manova_data,dodge=True, errorbar=('ci',95),markers=['o','s','^'],linestyles=['-','--','-.'])\n",
        "  ##圖片titl,x,y軸取名\n",
        "plt.title('Mean Plot for math_3 by Gender and Ethnicity')\n",
        "plt.xlabel('Gender')\n",
        "plt.ylabel('Mean math_3')\n",
        "#自動調整佈局\n",
        "plt.tight_layout()\n",
        "#輸出結果\n",
        "plt.show()"
      ],
      "metadata": {
        "colab": {
          "base_uri": "https://localhost:8080/",
          "height": 435
        },
        "id": "8bbwfn0FjUkU",
        "outputId": "4297f526-4450-4988-900c-2de90863f229"
      },
      "execution_count": 23,
      "outputs": [
        {
          "output_type": "display_data",
          "data": {
            "text/plain": [
              "<Figure size 1200x800 with 4 Axes>"
            ],
            "image/png": "[encoded data removed]"
          },
          "metadata": {}
        }
      ]
    },
    {
      "cell_type": "markdown",
      "source": [
        "從右圖可以看出種族（ethnic）有統計上的顯著差異。因此要做post-hoc。另外因有兩個自變項需要先分別對reading_2和math_2做two-way anova\n",
        "\n",
        "但在做ANOVA之前，需要做同質性檢驗（levene test）"
      ],
      "metadata": {
        "id": "XJuxNd0Nr0EE"
      }
    },
    {
      "cell_type": "markdown",
      "source": [
        "# (levent test + Two-way ANOVA)：reading_3"
      ],
      "metadata": {
        "id": "uhyKZeKmtMbK"
      }
    },
    {
      "cell_type": "code",
      "source": [
        "#使用pingouin.homoscedasticity做 levene test\n",
        "levene_test_ethnic = pg.homoscedasticity(data=manova_data,dv='reading_3',group='ethnic')\n",
        "print(levene_test_ethnic)\n",
        "levene_test_gender = pg.homoscedasticity(data=manova_data,dv='reading_3',group='gender')\n",
        "print(levene_test_gender)\n",
        "\n",
        "# Two-way ANOVA\n",
        "aov = pg.anova(dv='reading_3',between=['ethnic','gender'],data=manova_data,detailed=True)\n",
        "  ##小數點至第三位\n",
        "aov.round(3)"
      ],
      "metadata": {
        "colab": {
          "base_uri": "https://localhost:8080/",
          "height": 248
        },
        "id": "dtcA_1a5s2qn",
        "outputId": "99340823-1d09-4a7c-ab79-44dffee62e28"
      },
      "execution_count": 24,
      "outputs": [
        {
          "output_type": "stream",
          "name": "stdout",
          "text": [
            "               W      pval  equal_var\n",
            "levene  0.579737  0.561033       True\n",
            "               W      pval  equal_var\n",
            "levene  0.000164  0.989805       True\n"
          ]
        },
        {
          "output_type": "execute_result",
          "data": {
            "text/plain": [
              "            Source         SS     DF        MS       F  p-unc    np2\n",
              "0           ethnic  10824.308    2.0  5412.154  17.583  0.000  0.158\n",
              "1           gender    891.994    1.0   891.994   2.898  0.090  0.015\n",
              "2  ethnic * gender    781.206    2.0   390.603   1.269  0.284  0.013\n",
              "3         Residual  57559.618  187.0   307.805     NaN    NaN    NaN"
            ],
            "text/html": [
              "\n",
              "  <div id=\"df-63666568-3819-4e59-a3bc-1fba58a7f5dd\" class=\"colab-df-container\">\n",
              "    <div>\n",
              "<style scoped>\n",
              "    .dataframe tbody tr th:only-of-type {\n",
              "        vertical-align: middle;\n",
              "    }\n",
              "\n",
              "    .dataframe tbody tr th {\n",
              "        vertical-align: top;\n",
              "    }\n",
              "\n",
              "    .dataframe thead th {\n",
              "        text-align: right;\n",
              "    }\n",
              "</style>\n",
              "<table border=\"1\" class=\"dataframe\">\n",
              "  <thead>\n",
              "    <tr style=\"text-align: right;\">\n",
              "      <th></th>\n",
              "      <th>Source</th>\n",
              "      <th>SS</th>\n",
              "      <th>DF</th>\n",
              "      <th>MS</th>\n",
              "      <th>F</th>\n",
              "      <th>p-unc</th>\n",
              "      <th>np2</th>\n",
              "    </tr>\n",
              "  </thead>\n",
              "  <tbody>\n",
              "    <tr>\n",
              "      <th>0</th>\n",
              "      <td>ethnic</td>\n",
              "      <td>10824.308</td>\n",
              "      <td>2.0</td>\n",
              "      <td>5412.154</td>\n",
              "      <td>17.583</td>\n",
              "      <td>0.000</td>\n",
              "      <td>0.158</td>\n",
              "    </tr>\n",
              "    <tr>\n",
              "      <th>1</th>\n",
              "      <td>gender</td>\n",
              "      <td>891.994</td>\n",
              "      <td>1.0</td>\n",
              "      <td>891.994</td>\n",
              "      <td>2.898</td>\n",
              "      <td>0.090</td>\n",
              "      <td>0.015</td>\n",
              "    </tr>\n",
              "    <tr>\n",
              "      <th>2</th>\n",
              "      <td>ethnic * gender</td>\n",
              "      <td>781.206</td>\n",
              "      <td>2.0</td>\n",
              "      <td>390.603</td>\n",
              "      <td>1.269</td>\n",
              "      <td>0.284</td>\n",
              "      <td>0.013</td>\n",
              "    </tr>\n",
              "    <tr>\n",
              "      <th>3</th>\n",
              "      <td>Residual</td>\n",
              "      <td>57559.618</td>\n",
              "      <td>187.0</td>\n",
              "      <td>307.805</td>\n",
              "      <td>NaN</td>\n",
              "      <td>NaN</td>\n",
              "      <td>NaN</td>\n",
              "    </tr>\n",
              "  </tbody>\n",
              "</table>\n",
              "</div>\n",
              "    <div class=\"colab-df-buttons\">\n",
              "\n",
              "  <div class=\"colab-df-container\">\n",
              "    <button class=\"colab-df-convert\" onclick=\"convertToInteractive('df-63666568-3819-4e59-a3bc-1fba58a7f5dd')\"\n",
              "            title=\"Convert this dataframe to an interactive table.\"\n",
              "            style=\"display:none;\">\n",
              "\n",
              "  <svg xmlns=\"http://www.w3.org/2000/svg\" height=\"24px\" viewBox=\"0 -960 960 960\">\n",
              "    <path d=\"M120-120v-720h720v720H120Zm60-500h600v-160H180v160Zm220 220h160v-160H400v160Zm0 220h160v-160H400v160ZM180-400h160v-160H180v160Zm440 0h160v-160H620v160ZM180-180h160v-160H180v160Zm440 0h160v-160H620v160Z\"/>\n",
              "  </svg>\n",
              "    </button>\n",
              "\n",
              "  <style>\n",
              "    .colab-df-container {\n",
              "      display:flex;\n",
              "      gap: 12px;\n",
              "    }\n",
              "\n",
              "    .colab-df-convert {\n",
              "      background-color: #E8F0FE;\n",
              "      border: none;\n",
              "      border-radius: 50%;\n",
              "      cursor: pointer;\n",
              "      display: none;\n",
              "      fill: #1967D2;\n",
              "      height: 32px;\n",
              "      padding: 0 0 0 0;\n",
              "      width: 32px;\n",
              "    }\n",
              "\n",
              "    .colab-df-convert:hover {\n",
              "      background-color: #E2EBFA;\n",
              "      box-shadow: 0px 1px 2px rgba(60, 64, 67, 0.3), 0px 1px 3px 1px rgba(60, 64, 67, 0.15);\n",
              "      fill: #174EA6;\n",
              "    }\n",
              "\n",
              "    .colab-df-buttons div {\n",
              "      margin-bottom: 4px;\n",
              "    }\n",
              "\n",
              "    [theme=dark] .colab-df-convert {\n",
              "      background-color: #3B4455;\n",
              "      fill: #D2E3FC;\n",
              "    }\n",
              "\n",
              "    [theme=dark] .colab-df-convert:hover {\n",
              "      background-color: #434B5C;\n",
              "      box-shadow: 0px 1px 3px 1px rgba(0, 0, 0, 0.15);\n",
              "      filter: drop-shadow(0px 1px 2px rgba(0, 0, 0, 0.3));\n",
              "      fill: #FFFFFF;\n",
              "    }\n",
              "  </style>\n",
              "\n",
              "    <script>\n",
              "      const buttonEl =\n",
              "        document.querySelector('#df-63666568-3819-4e59-a3bc-1fba58a7f5dd button.colab-df-convert');\n",
              "      buttonEl.style.display =\n",
              "        google.colab.kernel.accessAllowed ? 'block' : 'none';\n",
              "\n",
              "      async function convertToInteractive(key) {\n",
              "        const element = document.querySelector('#df-63666568-3819-4e59-a3bc-1fba58a7f5dd');\n",
              "        const dataTable =\n",
              "          await google.colab.kernel.invokeFunction('convertToInteractive',\n",
              "                                                    [key], {});\n",
              "        if (!dataTable) return;\n",
              "\n",
              "        const docLinkHtml = 'Like what you see? Visit the ' +\n",
              "          '<a target=\"_blank\" href=https://colab.research.google.com/notebooks/data_table.ipynb>data table notebook</a>'\n",
              "          + ' to learn more about interactive tables.';\n",
              "        element.innerHTML = '';\n",
              "        dataTable['output_type'] = 'display_data';\n",
              "        await google.colab.output.renderOutput(dataTable, element);\n",
              "        const docLink = document.createElement('div');\n",
              "        docLink.innerHTML = docLinkHtml;\n",
              "        element.appendChild(docLink);\n",
              "      }\n",
              "    </script>\n",
              "  </div>\n",
              "\n",
              "\n",
              "<div id=\"df-c05e0c39-7201-4c31-937a-1865e11b7c9c\">\n",
              "  <button class=\"colab-df-quickchart\" onclick=\"quickchart('df-c05e0c39-7201-4c31-937a-1865e11b7c9c')\"\n",
              "            title=\"Suggest charts\"\n",
              "            style=\"display:none;\">\n",
              "\n",
              "<svg xmlns=\"http://www.w3.org/2000/svg\" height=\"24px\"viewBox=\"0 0 24 24\"\n",
              "     width=\"24px\">\n",
              "    <g>\n",
              "        <path d=\"M19 3H5c-1.1 0-2 .9-2 2v14c0 1.1.9 2 2 2h14c1.1 0 2-.9 2-2V5c0-1.1-.9-2-2-2zM9 17H7v-7h2v7zm4 0h-2V7h2v10zm4 0h-2v-4h2v4z\"/>\n",
              "    </g>\n",
              "</svg>\n",
              "  </button>\n",
              "\n",
              "<style>\n",
              "  .colab-df-quickchart {\n",
              "      --bg-color: #E8F0FE;\n",
              "      --fill-color: #1967D2;\n",
              "      --hover-bg-color: #E2EBFA;\n",
              "      --hover-fill-color: #174EA6;\n",
              "      --disabled-fill-color: #AAA;\n",
              "      --disabled-bg-color: #DDD;\n",
              "  }\n",
              "\n",
              "  [theme=dark] .colab-df-quickchart {\n",
              "      --bg-color: #3B4455;\n",
              "      --fill-color: #D2E3FC;\n",
              "      --hover-bg-color: #434B5C;\n",
              "      --hover-fill-color: #FFFFFF;\n",
              "      --disabled-bg-color: #3B4455;\n",
              "      --disabled-fill-color: #666;\n",
              "  }\n",
              "\n",
              "  .colab-df-quickchart {\n",
              "    background-color: var(--bg-color);\n",
              "    border: none;\n",
              "    border-radius: 50%;\n",
              "    cursor: pointer;\n",
              "    display: none;\n",
              "    fill: var(--fill-color);\n",
              "    height: 32px;\n",
              "    padding: 0;\n",
              "    width: 32px;\n",
              "  }\n",
              "\n",
              "  .colab-df-quickchart:hover {\n",
              "    background-color: var(--hover-bg-color);\n",
              "    box-shadow: 0 1px 2px rgba(60, 64, 67, 0.3), 0 1px 3px 1px rgba(60, 64, 67, 0.15);\n",
              "    fill: var(--button-hover-fill-color);\n",
              "  }\n",
              "\n",
              "  .colab-df-quickchart-complete:disabled,\n",
              "  .colab-df-quickchart-complete:disabled:hover {\n",
              "    background-color: var(--disabled-bg-color);\n",
              "    fill: var(--disabled-fill-color);\n",
              "    box-shadow: none;\n",
              "  }\n",
              "\n",
              "  .colab-df-spinner {\n",
              "    border: 2px solid var(--fill-color);\n",
              "    border-color: transparent;\n",
              "    border-bottom-color: var(--fill-color);\n",
              "    animation:\n",
              "      spin 1s steps(1) infinite;\n",
              "  }\n",
              "\n",
              "  @keyframes spin {\n",
              "    0% {\n",
              "      border-color: transparent;\n",
              "      border-bottom-color: var(--fill-color);\n",
              "      border-left-color: var(--fill-color);\n",
              "    }\n",
              "    20% {\n",
              "      border-color: transparent;\n",
              "      border-left-color: var(--fill-color);\n",
              "      border-top-color: var(--fill-color);\n",
              "    }\n",
              "    30% {\n",
              "      border-color: transparent;\n",
              "      border-left-color: var(--fill-color);\n",
              "      border-top-color: var(--fill-color);\n",
              "      border-right-color: var(--fill-color);\n",
              "    }\n",
              "    40% {\n",
              "      border-color: transparent;\n",
              "      border-right-color: var(--fill-color);\n",
              "      border-top-color: var(--fill-color);\n",
              "    }\n",
              "    60% {\n",
              "      border-color: transparent;\n",
              "      border-right-color: var(--fill-color);\n",
              "    }\n",
              "    80% {\n",
              "      border-color: transparent;\n",
              "      border-right-color: var(--fill-color);\n",
              "      border-bottom-color: var(--fill-color);\n",
              "    }\n",
              "    90% {\n",
              "      border-color: transparent;\n",
              "      border-bottom-color: var(--fill-color);\n",
              "    }\n",
              "  }\n",
              "</style>\n",
              "\n",
              "  <script>\n",
              "    async function quickchart(key) {\n",
              "      const quickchartButtonEl =\n",
              "        document.querySelector('#' + key + ' button');\n",
              "      quickchartButtonEl.disabled = true;  // To prevent multiple clicks.\n",
              "      quickchartButtonEl.classList.add('colab-df-spinner');\n",
              "      try {\n",
              "        const charts = await google.colab.kernel.invokeFunction(\n",
              "            'suggestCharts', [key], {});\n",
              "      } catch (error) {\n",
              "        console.error('Error during call to suggestCharts:', error);\n",
              "      }\n",
              "      quickchartButtonEl.classList.remove('colab-df-spinner');\n",
              "      quickchartButtonEl.classList.add('colab-df-quickchart-complete');\n",
              "    }\n",
              "    (() => {\n",
              "      let quickchartButtonEl =\n",
              "        document.querySelector('#df-c05e0c39-7201-4c31-937a-1865e11b7c9c button');\n",
              "      quickchartButtonEl.style.display =\n",
              "        google.colab.kernel.accessAllowed ? 'block' : 'none';\n",
              "    })();\n",
              "  </script>\n",
              "</div>\n",
              "\n",
              "    </div>\n",
              "  </div>\n"
            ],
            "application/vnd.google.colaboratory.intrinsic+json": {
              "type": "dataframe",
              "summary": "{\n  \"name\": \"aov\",\n  \"rows\": 4,\n  \"fields\": [\n    {\n      \"column\": \"Source\",\n      \"properties\": {\n        \"dtype\": \"string\",\n        \"num_unique_values\": 4,\n        \"samples\": [\n          \"gender\",\n          \"Residual\",\n          \"ethnic\"\n        ],\n        \"semantic_type\": \"\",\n        \"description\": \"\"\n      }\n    },\n    {\n      \"column\": \"SS\",\n      \"properties\": {\n        \"dtype\": \"number\",\n        \"std\": 27108.922136757188,\n        \"min\": 781.206,\n        \"max\": 57559.618,\n        \"num_unique_values\": 4,\n        \"samples\": [\n          891.994,\n          57559.618,\n          10824.308\n        ],\n        \"semantic_type\": \"\",\n        \"description\": \"\"\n      }\n    },\n    {\n      \"column\": \"DF\",\n      \"properties\": {\n        \"dtype\": \"number\",\n        \"std\": 92.6678656996768,\n        \"min\": 1.0,\n        \"max\": 187.0,\n        \"num_unique_values\": 3,\n        \"samples\": [\n          2.0,\n          1.0,\n          187.0\n        ],\n        \"semantic_type\": \"\",\n        \"description\": \"\"\n      }\n    },\n    {\n      \"column\": \"MS\",\n      \"properties\": {\n        \"dtype\": \"number\",\n        \"std\": 2454.61682034094,\n        \"min\": 307.805,\n        \"max\": 5412.154,\n        \"num_unique_values\": 4,\n        \"samples\": [\n          891.994,\n          307.805,\n          5412.154\n        ],\n        \"semantic_type\": \"\",\n        \"description\": \"\"\n      }\n    },\n    {\n      \"column\": \"F\",\n      \"properties\": {\n        \"dtype\": \"number\",\n        \"std\": 8.98563169732657,\n        \"min\": 1.269,\n        \"max\": 17.583,\n        \"num_unique_values\": 3,\n        \"samples\": [\n          17.583,\n          2.898,\n          1.269\n        ],\n        \"semantic_type\": \"\",\n        \"description\": \"\"\n      }\n    },\n    {\n      \"column\": \"p-unc\",\n      \"properties\": {\n        \"dtype\": \"number\",\n        \"std\": 0.1451390138223811,\n        \"min\": 0.0,\n        \"max\": 0.284,\n        \"num_unique_values\": 3,\n        \"samples\": [\n          0.0,\n          0.09,\n          0.284\n        ],\n        \"semantic_type\": \"\",\n        \"description\": \"\"\n      }\n    },\n    {\n      \"column\": \"np2\",\n      \"properties\": {\n        \"dtype\": \"number\",\n        \"std\": 0.08314445261110329,\n        \"min\": 0.013,\n        \"max\": 0.158,\n        \"num_unique_values\": 3,\n        \"samples\": [\n          0.158,\n          0.015,\n          0.013\n        ],\n        \"semantic_type\": \"\",\n        \"description\": \"\"\n      }\n    }\n  ]\n}"
            }
          },
          "metadata": {},
          "execution_count": 24
        }
      ]
    },
    {
      "cell_type": "markdown",
      "source": [
        "*   reading_3的levene test結果：equal_var=True（P value>0.05,不拒絕H0假設，組間有同質性）\n",
        "*    reading_3的Two-way ANOVA結果：性別和種族的交互效果不顯著（ethnic * gender）的p value>0.05，因此不用繼續做ANOVA（性別對 reading_3的影響，種族對 reading_3的影響）"
      ],
      "metadata": {
        "id": "g3qLD4eHwFSY"
      }
    },
    {
      "cell_type": "markdown",
      "source": [
        "#(levent test + Two-way ANOVA)：math_3"
      ],
      "metadata": {
        "id": "Ul7TMuL6rkgQ"
      }
    },
    {
      "cell_type": "code",
      "source": [
        "#使用pingouin.homoscedasticity做 levene test\n",
        "levene_test_ethnic = pg.homoscedasticity(data=manova_data,dv='math_3',group='ethnic')\n",
        "print(levene_test_ethnic)\n",
        "levene_test_gender = pg.homoscedasticity(data=manova_data,dv='math_3',group='gender')\n",
        "print(levene_test_gender)\n",
        "\n",
        "# Two-way ANOVA\n",
        "aov = pg.anova(dv='math_3',between=['ethnic','gender'],data=manova_data,detailed=True)\n",
        "  ##小數點至第三位\n",
        "aov.round(3)"
      ],
      "metadata": {
        "colab": {
          "base_uri": "https://localhost:8080/",
          "height": 248
        },
        "id": "ECSTdiEi0ckW",
        "outputId": "a78a2f19-14fb-4fda-cd03-cadfd8b2de8f"
      },
      "execution_count": 25,
      "outputs": [
        {
          "output_type": "stream",
          "name": "stdout",
          "text": [
            "               W      pval  equal_var\n",
            "levene  1.305336  0.273501       True\n",
            "               W      pval  equal_var\n",
            "levene  1.911683  0.168391       True\n"
          ]
        },
        {
          "output_type": "execute_result",
          "data": {
            "text/plain": [
              "            Source         SS     DF        MS       F  p-unc    np2\n",
              "0           ethnic   3220.867    2.0  1610.433  18.463  0.000  0.165\n",
              "1           gender     72.082    1.0    72.082   0.826  0.364  0.004\n",
              "2  ethnic * gender    647.797    2.0   323.898   3.713  0.026  0.038\n",
              "3         Residual  16311.093  187.0    87.225     NaN    NaN    NaN"
            ],
            "text/html": [
              "\n",
              "  <div id=\"df-1d6767b8-7c87-4cf6-afa9-4a32bdab1d03\" class=\"colab-df-container\">\n",
              "    <div>\n",
              "<style scoped>\n",
              "    .dataframe tbody tr th:only-of-type {\n",
              "        vertical-align: middle;\n",
              "    }\n",
              "\n",
              "    .dataframe tbody tr th {\n",
              "        vertical-align: top;\n",
              "    }\n",
              "\n",
              "    .dataframe thead th {\n",
              "        text-align: right;\n",
              "    }\n",
              "</style>\n",
              "<table border=\"1\" class=\"dataframe\">\n",
              "  <thead>\n",
              "    <tr style=\"text-align: right;\">\n",
              "      <th></th>\n",
              "      <th>Source</th>\n",
              "      <th>SS</th>\n",
              "      <th>DF</th>\n",
              "      <th>MS</th>\n",
              "      <th>F</th>\n",
              "      <th>p-unc</th>\n",
              "      <th>np2</th>\n",
              "    </tr>\n",
              "  </thead>\n",
              "  <tbody>\n",
              "    <tr>\n",
              "      <th>0</th>\n",
              "      <td>ethnic</td>\n",
              "      <td>3220.867</td>\n",
              "      <td>2.0</td>\n",
              "      <td>1610.433</td>\n",
              "      <td>18.463</td>\n",
              "      <td>0.000</td>\n",
              "      <td>0.165</td>\n",
              "    </tr>\n",
              "    <tr>\n",
              "      <th>1</th>\n",
              "      <td>gender</td>\n",
              "      <td>72.082</td>\n",
              "      <td>1.0</td>\n",
              "      <td>72.082</td>\n",
              "      <td>0.826</td>\n",
              "      <td>0.364</td>\n",
              "      <td>0.004</td>\n",
              "    </tr>\n",
              "    <tr>\n",
              "      <th>2</th>\n",
              "      <td>ethnic * gender</td>\n",
              "      <td>647.797</td>\n",
              "      <td>2.0</td>\n",
              "      <td>323.898</td>\n",
              "      <td>3.713</td>\n",
              "      <td>0.026</td>\n",
              "      <td>0.038</td>\n",
              "    </tr>\n",
              "    <tr>\n",
              "      <th>3</th>\n",
              "      <td>Residual</td>\n",
              "      <td>16311.093</td>\n",
              "      <td>187.0</td>\n",
              "      <td>87.225</td>\n",
              "      <td>NaN</td>\n",
              "      <td>NaN</td>\n",
              "      <td>NaN</td>\n",
              "    </tr>\n",
              "  </tbody>\n",
              "</table>\n",
              "</div>\n",
              "    <div class=\"colab-df-buttons\">\n",
              "\n",
              "  <div class=\"colab-df-container\">\n",
              "    <button class=\"colab-df-convert\" onclick=\"convertToInteractive('df-1d6767b8-7c87-4cf6-afa9-4a32bdab1d03')\"\n",
              "            title=\"Convert this dataframe to an interactive table.\"\n",
              "            style=\"display:none;\">\n",
              "\n",
              "  <svg xmlns=\"http://www.w3.org/2000/svg\" height=\"24px\" viewBox=\"0 -960 960 960\">\n",
              "    <path d=\"M120-120v-720h720v720H120Zm60-500h600v-160H180v160Zm220 220h160v-160H400v160Zm0 220h160v-160H400v160ZM180-400h160v-160H180v160Zm440 0h160v-160H620v160ZM180-180h160v-160H180v160Zm440 0h160v-160H620v160Z\"/>\n",
              "  </svg>\n",
              "    </button>\n",
              "\n",
              "  <style>\n",
              "    .colab-df-container {\n",
              "      display:flex;\n",
              "      gap: 12px;\n",
              "    }\n",
              "\n",
              "    .colab-df-convert {\n",
              "      background-color: #E8F0FE;\n",
              "      border: none;\n",
              "      border-radius: 50%;\n",
              "      cursor: pointer;\n",
              "      display: none;\n",
              "      fill: #1967D2;\n",
              "      height: 32px;\n",
              "      padding: 0 0 0 0;\n",
              "      width: 32px;\n",
              "    }\n",
              "\n",
              "    .colab-df-convert:hover {\n",
              "      background-color: #E2EBFA;\n",
              "      box-shadow: 0px 1px 2px rgba(60, 64, 67, 0.3), 0px 1px 3px 1px rgba(60, 64, 67, 0.15);\n",
              "      fill: #174EA6;\n",
              "    }\n",
              "\n",
              "    .colab-df-buttons div {\n",
              "      margin-bottom: 4px;\n",
              "    }\n",
              "\n",
              "    [theme=dark] .colab-df-convert {\n",
              "      background-color: #3B4455;\n",
              "      fill: #D2E3FC;\n",
              "    }\n",
              "\n",
              "    [theme=dark] .colab-df-convert:hover {\n",
              "      background-color: #434B5C;\n",
              "      box-shadow: 0px 1px 3px 1px rgba(0, 0, 0, 0.15);\n",
              "      filter: drop-shadow(0px 1px 2px rgba(0, 0, 0, 0.3));\n",
              "      fill: #FFFFFF;\n",
              "    }\n",
              "  </style>\n",
              "\n",
              "    <script>\n",
              "      const buttonEl =\n",
              "        document.querySelector('#df-1d6767b8-7c87-4cf6-afa9-4a32bdab1d03 button.colab-df-convert');\n",
              "      buttonEl.style.display =\n",
              "        google.colab.kernel.accessAllowed ? 'block' : 'none';\n",
              "\n",
              "      async function convertToInteractive(key) {\n",
              "        const element = document.querySelector('#df-1d6767b8-7c87-4cf6-afa9-4a32bdab1d03');\n",
              "        const dataTable =\n",
              "          await google.colab.kernel.invokeFunction('convertToInteractive',\n",
              "                                                    [key], {});\n",
              "        if (!dataTable) return;\n",
              "\n",
              "        const docLinkHtml = 'Like what you see? Visit the ' +\n",
              "          '<a target=\"_blank\" href=https://colab.research.google.com/notebooks/data_table.ipynb>data table notebook</a>'\n",
              "          + ' to learn more about interactive tables.';\n",
              "        element.innerHTML = '';\n",
              "        dataTable['output_type'] = 'display_data';\n",
              "        await google.colab.output.renderOutput(dataTable, element);\n",
              "        const docLink = document.createElement('div');\n",
              "        docLink.innerHTML = docLinkHtml;\n",
              "        element.appendChild(docLink);\n",
              "      }\n",
              "    </script>\n",
              "  </div>\n",
              "\n",
              "\n",
              "<div id=\"df-a9160025-75a8-4bf6-9d22-e1c163d66b4b\">\n",
              "  <button class=\"colab-df-quickchart\" onclick=\"quickchart('df-a9160025-75a8-4bf6-9d22-e1c163d66b4b')\"\n",
              "            title=\"Suggest charts\"\n",
              "            style=\"display:none;\">\n",
              "\n",
              "<svg xmlns=\"http://www.w3.org/2000/svg\" height=\"24px\"viewBox=\"0 0 24 24\"\n",
              "     width=\"24px\">\n",
              "    <g>\n",
              "        <path d=\"M19 3H5c-1.1 0-2 .9-2 2v14c0 1.1.9 2 2 2h14c1.1 0 2-.9 2-2V5c0-1.1-.9-2-2-2zM9 17H7v-7h2v7zm4 0h-2V7h2v10zm4 0h-2v-4h2v4z\"/>\n",
              "    </g>\n",
              "</svg>\n",
              "  </button>\n",
              "\n",
              "<style>\n",
              "  .colab-df-quickchart {\n",
              "      --bg-color: #E8F0FE;\n",
              "      --fill-color: #1967D2;\n",
              "      --hover-bg-color: #E2EBFA;\n",
              "      --hover-fill-color: #174EA6;\n",
              "      --disabled-fill-color: #AAA;\n",
              "      --disabled-bg-color: #DDD;\n",
              "  }\n",
              "\n",
              "  [theme=dark] .colab-df-quickchart {\n",
              "      --bg-color: #3B4455;\n",
              "      --fill-color: #D2E3FC;\n",
              "      --hover-bg-color: #434B5C;\n",
              "      --hover-fill-color: #FFFFFF;\n",
              "      --disabled-bg-color: #3B4455;\n",
              "      --disabled-fill-color: #666;\n",
              "  }\n",
              "\n",
              "  .colab-df-quickchart {\n",
              "    background-color: var(--bg-color);\n",
              "    border: none;\n",
              "    border-radius: 50%;\n",
              "    cursor: pointer;\n",
              "    display: none;\n",
              "    fill: var(--fill-color);\n",
              "    height: 32px;\n",
              "    padding: 0;\n",
              "    width: 32px;\n",
              "  }\n",
              "\n",
              "  .colab-df-quickchart:hover {\n",
              "    background-color: var(--hover-bg-color);\n",
              "    box-shadow: 0 1px 2px rgba(60, 64, 67, 0.3), 0 1px 3px 1px rgba(60, 64, 67, 0.15);\n",
              "    fill: var(--button-hover-fill-color);\n",
              "  }\n",
              "\n",
              "  .colab-df-quickchart-complete:disabled,\n",
              "  .colab-df-quickchart-complete:disabled:hover {\n",
              "    background-color: var(--disabled-bg-color);\n",
              "    fill: var(--disabled-fill-color);\n",
              "    box-shadow: none;\n",
              "  }\n",
              "\n",
              "  .colab-df-spinner {\n",
              "    border: 2px solid var(--fill-color);\n",
              "    border-color: transparent;\n",
              "    border-bottom-color: var(--fill-color);\n",
              "    animation:\n",
              "      spin 1s steps(1) infinite;\n",
              "  }\n",
              "\n",
              "  @keyframes spin {\n",
              "    0% {\n",
              "      border-color: transparent;\n",
              "      border-bottom-color: var(--fill-color);\n",
              "      border-left-color: var(--fill-color);\n",
              "    }\n",
              "    20% {\n",
              "      border-color: transparent;\n",
              "      border-left-color: var(--fill-color);\n",
              "      border-top-color: var(--fill-color);\n",
              "    }\n",
              "    30% {\n",
              "      border-color: transparent;\n",
              "      border-left-color: var(--fill-color);\n",
              "      border-top-color: var(--fill-color);\n",
              "      border-right-color: var(--fill-color);\n",
              "    }\n",
              "    40% {\n",
              "      border-color: transparent;\n",
              "      border-right-color: var(--fill-color);\n",
              "      border-top-color: var(--fill-color);\n",
              "    }\n",
              "    60% {\n",
              "      border-color: transparent;\n",
              "      border-right-color: var(--fill-color);\n",
              "    }\n",
              "    80% {\n",
              "      border-color: transparent;\n",
              "      border-right-color: var(--fill-color);\n",
              "      border-bottom-color: var(--fill-color);\n",
              "    }\n",
              "    90% {\n",
              "      border-color: transparent;\n",
              "      border-bottom-color: var(--fill-color);\n",
              "    }\n",
              "  }\n",
              "</style>\n",
              "\n",
              "  <script>\n",
              "    async function quickchart(key) {\n",
              "      const quickchartButtonEl =\n",
              "        document.querySelector('#' + key + ' button');\n",
              "      quickchartButtonEl.disabled = true;  // To prevent multiple clicks.\n",
              "      quickchartButtonEl.classList.add('colab-df-spinner');\n",
              "      try {\n",
              "        const charts = await google.colab.kernel.invokeFunction(\n",
              "            'suggestCharts', [key], {});\n",
              "      } catch (error) {\n",
              "        console.error('Error during call to suggestCharts:', error);\n",
              "      }\n",
              "      quickchartButtonEl.classList.remove('colab-df-spinner');\n",
              "      quickchartButtonEl.classList.add('colab-df-quickchart-complete');\n",
              "    }\n",
              "    (() => {\n",
              "      let quickchartButtonEl =\n",
              "        document.querySelector('#df-a9160025-75a8-4bf6-9d22-e1c163d66b4b button');\n",
              "      quickchartButtonEl.style.display =\n",
              "        google.colab.kernel.accessAllowed ? 'block' : 'none';\n",
              "    })();\n",
              "  </script>\n",
              "</div>\n",
              "\n",
              "    </div>\n",
              "  </div>\n"
            ],
            "application/vnd.google.colaboratory.intrinsic+json": {
              "type": "dataframe",
              "summary": "{\n  \"name\": \"aov\",\n  \"rows\": 4,\n  \"fields\": [\n    {\n      \"column\": \"Source\",\n      \"properties\": {\n        \"dtype\": \"string\",\n        \"num_unique_values\": 4,\n        \"samples\": [\n          \"gender\",\n          \"Residual\",\n          \"ethnic\"\n        ],\n        \"semantic_type\": \"\",\n        \"description\": \"\"\n      }\n    },\n    {\n      \"column\": \"SS\",\n      \"properties\": {\n        \"dtype\": \"number\",\n        \"std\": 7622.692659285842,\n        \"min\": 72.082,\n        \"max\": 16311.093,\n        \"num_unique_values\": 4,\n        \"samples\": [\n          72.082,\n          16311.093,\n          3220.867\n        ],\n        \"semantic_type\": \"\",\n        \"description\": \"\"\n      }\n    },\n    {\n      \"column\": \"DF\",\n      \"properties\": {\n        \"dtype\": \"number\",\n        \"std\": 92.6678656996768,\n        \"min\": 1.0,\n        \"max\": 187.0,\n        \"num_unique_values\": 3,\n        \"samples\": [\n          2.0,\n          1.0,\n          187.0\n        ],\n        \"semantic_type\": \"\",\n        \"description\": \"\"\n      }\n    },\n    {\n      \"column\": \"MS\",\n      \"properties\": {\n        \"dtype\": \"number\",\n        \"std\": 733.7979645835766,\n        \"min\": 72.082,\n        \"max\": 1610.433,\n        \"num_unique_values\": 4,\n        \"samples\": [\n          72.082,\n          87.225,\n          1610.433\n        ],\n        \"semantic_type\": \"\",\n        \"description\": \"\"\n      }\n    },\n    {\n      \"column\": \"F\",\n      \"properties\": {\n        \"dtype\": \"number\",\n        \"std\": 9.460100757039184,\n        \"min\": 0.826,\n        \"max\": 18.463,\n        \"num_unique_values\": 3,\n        \"samples\": [\n          18.463,\n          0.826,\n          3.713\n        ],\n        \"semantic_type\": \"\",\n        \"description\": \"\"\n      }\n    },\n    {\n      \"column\": \"p-unc\",\n      \"properties\": {\n        \"dtype\": \"number\",\n        \"std\": 0.203066491573573,\n        \"min\": 0.0,\n        \"max\": 0.364,\n        \"num_unique_values\": 3,\n        \"samples\": [\n          0.0,\n          0.364,\n          0.026\n        ],\n        \"semantic_type\": \"\",\n        \"description\": \"\"\n      }\n    },\n    {\n      \"column\": \"np2\",\n      \"properties\": {\n        \"dtype\": \"number\",\n        \"std\": 0.08485870609430715,\n        \"min\": 0.004,\n        \"max\": 0.165,\n        \"num_unique_values\": 3,\n        \"samples\": [\n          0.165,\n          0.004,\n          0.038\n        ],\n        \"semantic_type\": \"\",\n        \"description\": \"\"\n      }\n    }\n  ]\n}"
            }
          },
          "metadata": {},
          "execution_count": 25
        }
      ]
    },
    {
      "cell_type": "markdown",
      "source": [
        "*   math_3的levene test結果：equal_var=True（P value>0.05,不拒絕H0假設，組間有同質性）\n",
        "*   math_3的Two-way ANOVA結果：性別和種族的交互效果顯著（ethnic * gender）的p value<0.05，因此繼續做ANOVA（性別對math_3的影響，種族對math_3的影響）\n",
        "***殘差（Residual）為組內均方（MSW）＝87.225**"
      ],
      "metadata": {
        "id": "uJVb23hm2oiE"
      }
    },
    {
      "cell_type": "markdown",
      "source": [
        "# Simple main effect test(ANOVA)：math_3（性別與不同種族是否有顯著關係）\n",
        "固定性別（gender），並檢查種族(ethnic)之間的差異\n",
        "，針對不同的性別進行迴圈ANOVA"
      ],
      "metadata": {
        "id": "YuXlFqrf7ph_"
      }
    },
    {
      "cell_type": "code",
      "source": [
        "for gender_level in manova_data['gender'].unique():\n",
        "  subset_data = manova_data[manova_data['gender'] == gender_level]\n",
        "# 輸入pingouin套件裡的ANOVA功能\n",
        "  submodel = pg.anova(dv='math_3',between='ethnic',data=subset_data,detailed=True)\n",
        "  print(f\"Simple Main Effect Test for ethnic within gender Level {gender_level}\")\n",
        "  print(submodel.round(3))\n",
        "#輸出空行（僅為了美觀）\n",
        "  print(\"\\n\")"
      ],
      "metadata": {
        "id": "W6yycs0CtlGg",
        "colab": {
          "base_uri": "https://localhost:8080/",
          "height": 0
        },
        "outputId": "dff5cc89-a2fb-43ab-eae0-66bc2485dcd2"
      },
      "execution_count": 26,
      "outputs": [
        {
          "output_type": "stream",
          "name": "stdout",
          "text": [
            "Simple Main Effect Test for ethnic within gender Level female\n",
            "   Source       SS  DF       MS      F  p-unc    np2\n",
            "0  ethnic   724.27   2  362.135  4.507  0.014  0.095\n",
            "1  Within  6909.64  86   80.345    NaN    NaN    NaN\n",
            "\n",
            "\n",
            "Simple Main Effect Test for ethnic within gender Level male\n",
            "   Source        SS   DF        MS      F  p-unc    np2\n",
            "0  ethnic  3144.393    2  1572.197  16.89    0.0  0.251\n",
            "1  Within  9401.453  101    93.084    NaN    NaN    NaN\n",
            "\n",
            "\n"
          ]
        }
      ]
    },
    {
      "cell_type": "markdown",
      "source": [
        "組間均方（MSB）：\n",
        "*   女性MSB＝362.135\n",
        "*   男性MSB＝1572.197\n",
        "\n",
        "\n"
      ],
      "metadata": {
        "id": "52Zw4lwa-zBs"
      }
    },
    {
      "cell_type": "markdown",
      "source": [
        "# 計算F值\n",
        "F value = MSB/MSW\n",
        "*   F-female=362.135/87.225=4.15\n",
        "*   F-male=1572.197/87.225=18.02"
      ],
      "metadata": {
        "id": "zhUSK6eX5ecC"
      }
    },
    {
      "cell_type": "markdown",
      "source": [
        "# 計算P值\n",
        "已知\n",
        "*   殘差（Residual）DF=dfd分母自由度=187\n",
        "*   ethnic DF=dfn分子自由度=2"
      ],
      "metadata": {
        "id": "HxX9DyRv_1XI"
      }
    },
    {
      "cell_type": "code",
      "source": [
        "#從SciPy庫中導入F分布的相關功能\n",
        "from scipy.stats import f\n",
        "#計算p-value=f.sf(F_value, dfn,dfd)\n",
        "#女性p值\n",
        "p_value_female = f.sf(4.15,2,187)\n",
        "print(\"female P-value:\", p_value_female)\n",
        "#男性p值\n",
        "p_value_male = f.sf(18.02,2,187)\n",
        "print(\"male P-value:\", p_value_male)"
      ],
      "metadata": {
        "colab": {
          "base_uri": "https://localhost:8080/",
          "height": 0
        },
        "id": "50Hi3Aa__xky",
        "outputId": "e8aed3b1-fa07-4b47-874a-c43b11249168"
      },
      "execution_count": 27,
      "outputs": [
        {
          "output_type": "stream",
          "name": "stdout",
          "text": [
            "female P-value: 0.01723973015515351\n",
            "male P-value: 6.972724178820868e-08\n"
          ]
        }
      ]
    },
    {
      "cell_type": "markdown",
      "source": [
        "# Post-hoc test (Scheffe test)\n",
        "由於P值具有統計上顯著：P value<0.05，需要做事後檢驗Post-hoc test，選擇使用Scheffe test"
      ],
      "metadata": {
        "id": "0Xl2iSRkDdj4"
      }
    },
    {
      "cell_type": "code",
      "source": [
        "#安裝scikit-posthocs\n",
        "%pip install scikit-posthocs\n",
        "import scikit_posthocs as sp"
      ],
      "metadata": {
        "colab": {
          "base_uri": "https://localhost:8080/",
          "height": 0
        },
        "id": "CXDsApwZDwOt",
        "outputId": "7ceda087-04fe-4cc5-d3f5-192dbf9a232d"
      },
      "execution_count": 28,
      "outputs": [
        {
          "output_type": "stream",
          "name": "stdout",
          "text": [
            "Requirement already satisfied: scikit-posthocs in /usr/local/lib/python3.10/dist-packages (0.9.1)\n",
            "Requirement already satisfied: numpy in /usr/local/lib/python3.10/dist-packages (from scikit-posthocs) (1.26.4)\n",
            "Requirement already satisfied: scipy>=1.9.0 in /usr/local/lib/python3.10/dist-packages (from scikit-posthocs) (1.13.1)\n",
            "Requirement already satisfied: statsmodels in /usr/local/lib/python3.10/dist-packages (from scikit-posthocs) (0.14.4)\n",
            "Requirement already satisfied: pandas>=0.20.0 in /usr/local/lib/python3.10/dist-packages (from scikit-posthocs) (2.2.2)\n",
            "Requirement already satisfied: seaborn in /usr/local/lib/python3.10/dist-packages (from scikit-posthocs) (0.13.2)\n",
            "Requirement already satisfied: matplotlib in /usr/local/lib/python3.10/dist-packages (from scikit-posthocs) (3.7.1)\n",
            "Requirement already satisfied: python-dateutil>=2.8.2 in /usr/local/lib/python3.10/dist-packages (from pandas>=0.20.0->scikit-posthocs) (2.8.2)\n",
            "Requirement already satisfied: pytz>=2020.1 in /usr/local/lib/python3.10/dist-packages (from pandas>=0.20.0->scikit-posthocs) (2024.2)\n",
            "Requirement already satisfied: tzdata>=2022.7 in /usr/local/lib/python3.10/dist-packages (from pandas>=0.20.0->scikit-posthocs) (2024.2)\n",
            "Requirement already satisfied: contourpy>=1.0.1 in /usr/local/lib/python3.10/dist-packages (from matplotlib->scikit-posthocs) (1.3.0)\n",
            "Requirement already satisfied: cycler>=0.10 in /usr/local/lib/python3.10/dist-packages (from matplotlib->scikit-posthocs) (0.12.1)\n",
            "Requirement already satisfied: fonttools>=4.22.0 in /usr/local/lib/python3.10/dist-packages (from matplotlib->scikit-posthocs) (4.54.1)\n",
            "Requirement already satisfied: kiwisolver>=1.0.1 in /usr/local/lib/python3.10/dist-packages (from matplotlib->scikit-posthocs) (1.4.7)\n",
            "Requirement already satisfied: packaging>=20.0 in /usr/local/lib/python3.10/dist-packages (from matplotlib->scikit-posthocs) (24.1)\n",
            "Requirement already satisfied: pillow>=6.2.0 in /usr/local/lib/python3.10/dist-packages (from matplotlib->scikit-posthocs) (10.4.0)\n",
            "Requirement already satisfied: pyparsing>=2.3.1 in /usr/local/lib/python3.10/dist-packages (from matplotlib->scikit-posthocs) (3.1.4)\n",
            "Requirement already satisfied: patsy>=0.5.6 in /usr/local/lib/python3.10/dist-packages (from statsmodels->scikit-posthocs) (0.5.6)\n",
            "Requirement already satisfied: six in /usr/local/lib/python3.10/dist-packages (from patsy>=0.5.6->statsmodels->scikit-posthocs) (1.16.0)\n"
          ]
        }
      ]
    },
    {
      "cell_type": "code",
      "source": [
        "# female\n",
        "female_data = manova_data[manova_data['gender'] == 'female'][[\"ethnic\",\"math_3\"]]\n",
        "scheffe_female = sp.posthoc_scheffe(female_data,group_col='ethnic',val_col='math_3')\n",
        "print(\"scheffe on math_3 for different ethnic within female sample\")\n",
        "print(scheffe_female)\n",
        "print(\"\\n\")\n",
        "# male\n",
        "male_data = manova_data[manova_data['gender'] == 'male'][[\"ethnic\",\"math_3\"]]\n",
        "scheffe_male = sp.posthoc_scheffe(male_data,group_col='ethnic',val_col='math_3')\n",
        "print(\"scheffe on math_3 for different ethnic within male sample\")\n",
        "print(scheffe_male)\n",
        "print(\"\\n\")"
      ],
      "metadata": {
        "colab": {
          "base_uri": "https://localhost:8080/",
          "height": 0
        },
        "id": "2WqyUvqJEqPF",
        "outputId": "0e09d847-6936-4c11-f14b-a3bca6ba3ab7"
      },
      "execution_count": 29,
      "outputs": [
        {
          "output_type": "stream",
          "name": "stdout",
          "text": [
            "scheffe on math_3 for different ethnic within female sample\n",
            "                  African-American  Hispanic  Caucasian\n",
            "African-American          1.000000  0.142739   0.020949\n",
            "Hispanic                  0.142739  1.000000   0.915642\n",
            "Caucasian                 0.020949  0.915642   1.000000\n",
            "\n",
            "\n",
            "scheffe on math_3 for different ethnic within male sample\n",
            "                  African-American      Hispanic  Caucasian\n",
            "African-American      1.000000e+00  6.269838e-07   0.019603\n",
            "Hispanic              6.269838e-07  1.000000e+00   0.016036\n",
            "Caucasian             1.960326e-02  1.603616e-02   1.000000\n",
            "\n",
            "\n"
          ]
        },
        {
          "output_type": "stream",
          "name": "stderr",
          "text": [
            "/usr/local/lib/python3.10/dist-packages/scikit_posthocs/_posthocs.py:2092: FutureWarning: The default of observed=False is deprecated and will be changed to True in a future version of pandas. Pass observed=False to retain current behavior or observed=True to adopt the future default and silence this warning.\n",
            "  x_grouped = x.groupby(_group_col)[_val_col]\n",
            "/usr/local/lib/python3.10/dist-packages/scikit_posthocs/_posthocs.py:2092: FutureWarning: The default of observed=False is deprecated and will be changed to True in a future version of pandas. Pass observed=False to retain current behavior or observed=True to adopt the future default and silence this warning.\n",
            "  x_grouped = x.groupby(_group_col)[_val_col]\n"
          ]
        }
      ]
    },
    {
      "cell_type": "markdown",
      "source": [
        "從Scheffe test結果配合上圖發現：\n",
        "\n",
        "\n",
        "*   當性別為女性時，只有數學分數顯示出African-American與Caucasian之間的差異（0.020949）。女性中African-American的數學平均分數比Caucasian高 (見上圖4)。而Hispanic和African-American沒有統計上的差異(0.142739)，Hispanic和Caucasian沒有統計上的差異(0.915642)\n",
        "*   當性別為男性時，三個種族的數學分數皆有統計差異(見上圖3)： African-American高於Caucasian和Hispanic，而Caucasian則高於Hispanic。可以推論，在數學分數方面，African-American > Caucasian > Hispanic。\n"
      ],
      "metadata": {
        "id": "BEsBkdKCKJ_5"
      }
    }
  ]
}